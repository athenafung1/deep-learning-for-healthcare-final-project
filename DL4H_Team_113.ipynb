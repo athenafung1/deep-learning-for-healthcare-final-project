{
 "cells": [
  {
   "cell_type": "markdown",
   "metadata": {
    "id": "j01aH0PR4Sg-"
   },
   "source": [
    "# Github Link:\n",
    "https://github.com/athenafung1/deep-learning-for-healthcare-final-project\n",
    "\n",
    "# Video Link:\n",
    "**FILL IN**"
   ]
  },
  {
   "cell_type": "markdown",
   "metadata": {
    "id": "MQ0sNuMePBXx"
   },
   "source": [
    "# Introduction:\n",
    "---\n",
    "\n",
    "## Background\n",
    "\n",
    "  Adverse drug-drug interaction (DDI) is the unintended molecular interactions between drugs. It’s a prominent cause of patient morbidities/mortalities, incurring higher costs and risking patient safety. The difficulty of mitigating this issue stems from a couple of factors: \n",
    "\n",
    "  * The molecular structure of drugs are complex, consisting of many units and substructures\n",
    "  * Drug development is a process that requires highly specialized knowledge\n",
    "  * Trials to test drugs and post-market surveillance are long, expensive processes\n",
    "\n",
    "  With respect to applying ML to this topic, there are also a couple of issues:\n",
    "  \n",
    "  * There is a relatively light amount of training data that exists, due to the slow reporting of DDI instances\n",
    "  * Deep learning models have a large number of parameters, making interpretation of the model’s results difficult. One example is that it can be hard to extract the reason for *why* a DDI is occurring.\n",
    "  * DDIs usually result from the reactions of only a few sub-structures of a drug’s entire molecule, but many drug-drug pairs have significant overlaps on larger but irrelevant substructures. This skews the results of DDI prediction.\n",
    "\n",
    "  There is major interest in predicting whether two drugs will interact (especially during the design process) to reduce testing/development costs and to improve patient safety.\n",
    "\n",
    "### The Current State of the Art\n",
    " \n",
    "  Deep learning models have been successfully used to predict DDIs, however such previous models often digest the entire chemical representation, causing learned representations to be potentially biased toward the large, irrelevant substructures and ultimately nullify learned drug similarities and predictions.\n"
   ]
  },
  {
   "cell_type": "markdown",
   "metadata": {},
   "source": [
    "# CASTER\n",
    "---\n",
    "\n",
    "## Link to CASTER Github:\n",
    "https://github.com/kexinhuang12345/CASTER\n",
    "\n",
    "The **ChemicAl SubstrucTurE Representation** framework (CASTER) was introduced as a DDI prediction model, improving on the weaknesses of prior works. CASTER adds a couple of improvements upon previous works. It includes a sequential pattern mining (SPM) method to efficiently decompose a SMILES string into a set of functional drug sub-structures. This accounts for the interaction mechanism between drugs, as interactions depend primarily on the reaction between only a few functional sub-structures. It also includes an autoencoder that works in tandem with a dictionary learning module. This allows the decoding of the latent result, which can help human operators better understand the probability of which sub-structures of a molecule pair are interacting. \n",
    "\n",
    "The authors presented the following hypotheses:\n",
    "1.  The CASTER model will provide more accurate DDI predictions when compared with other established models.\n",
    "2.  The usage of unlabelled data to generate frequent sub-structure features improves performance in situations with limited labeled datasets.\n",
    "3.  CASTER’s sub-structure dictionary can help human operators better comprehend the final result.\n",
    "\n",
    "Based on the paper, it outperformed multiple other models while having a slightly smaller set of parameters, as shown below:\n",
    "\n",
    "![caster_results.png](img/caster_results.png)\n",
    "\n",
    "### Architecture\n",
    "\n",
    "![caster_structure.png](img/caster_block_diagram.png)\n",
    "\n",
    "The model consists of a few notable parts:\n",
    "* **Sequential Pattern Mining (SPM)**\n",
    "    * The SMILEs strings are initially passed through a sequential pattern mining process to find frequently occurring substructures\n",
    "        * The frequent substructures are put into a dictionary (*u[1-k]*)\n",
    "    * SMILEs pairs are encoded into multi-hot vectors of their frequent substructures and combined into a single functional representation (*X*)\n",
    "* **Encoder**\n",
    "    * The functional representation is passed through the encoder to make a latent feature vector (*z*)\n",
    "    * The individual freq. substructures, as one-hot vectors, are also passed through the encoder to make a latent dictionary of substructures (*b[1-k]*)\n",
    "* **Predictor**\n",
    "    * The latent representation is projected onto the latent dictionary to form a set of coefficients (*r[1-k]*)\n",
    "    * The coefficients are passed through a standard fully connected NN.\n",
    "* **Decoder**\n",
    "    * The latent representation is passed through the decoder to reconstruct the functional representation and help comprehend the result\n",
    "\n",
    "CASTER is notable for its consideration of the holistic structures of molecules, and the fact that it can provide a more understandable, practical output to a human operator using the tool."
   ]
  },
  {
   "cell_type": "markdown",
   "metadata": {
    "id": "uygL9tTPSVHB"
   },
   "source": [
    "## Scope of Reproducibility:\n",
    "\n",
    "We will attempt to test the two following hypotheses with the same hyperparameters defined in the paper/repo:\n",
    "\n",
    "1.  *The CASTER model will provide more accurate DDI predictions when compared with other established models.*\n",
    "2.  *The usage of unlabelled data to generate frequent sub-structure features improves performance in situations with limited labeled datasets.*"
   ]
  },
  {
   "cell_type": "markdown",
   "metadata": {
    "id": "xWAHJ_1CdtaA"
   },
   "source": [
    "# Methodology:\n",
    "---\n",
    "### Setup:\n",
    "This notebook was run with Python >=3.8. The required packages below can be installed using conda, venv, or pip.\n",
    "* numpy\n",
    "* torch\n",
    "* subword_nmt\n",
    "* codecs\n",
    "* pandas\n",
    "* scikit-learn\n",
    "* tqdm\n",
    "* matplotlib\n",
    "\n",
    "If using the requirements.txt file, run `pip install -r requirements.txt`\n",
    "\n",
    "### Running the Notebook:\n",
    "Hit `Run All`."
   ]
  },
  {
   "cell_type": "code",
   "execution_count": 128,
   "metadata": {
    "id": "yu61Jp1xrnKk"
   },
   "outputs": [],
   "source": [
    "import numpy as np\n",
    "\n",
    "#Standard torch imports\n",
    "import torch\n",
    "from torch.autograd import Variable\n",
    "import torch.nn.functional as F\n",
    "from torch.utils import data\n",
    "from torch import nn \n",
    "\n",
    "#Used for parsing the misc datasets\n",
    "from subword_nmt.apply_bpe import BPE\n",
    "import codecs\n",
    "\n",
    "#For dataset preparation and evaluation\n",
    "import pandas as pd\n",
    "from sklearn.metrics import roc_auc_score, precision_recall_curve\n",
    "from sklearn.model_selection import KFold\n",
    "\n",
    "#Misc.\n",
    "from tqdm import tqdm\n",
    "import matplotlib.pyplot as plt\n",
    "from time import time\n",
    "torch.manual_seed(2)    # reproducible torch:2 np:3\n",
    "np.random.seed(3)"
   ]
  },
  {
   "cell_type": "code",
   "execution_count": 129,
   "metadata": {},
   "outputs": [],
   "source": [
    "QUICK_TRAIN_DEMO = True\n",
    "\n",
    "#Defines configuration for the data/model/training.\n",
    "CONFIG = {}\n",
    "\n",
    "#Learning rate\n",
    "CONFIG['LR'] = 1e-3\n",
    "#NOTE: Batch size has been reduced from 256 to 128 to speed up training.\n",
    "CONFIG['batch_size'] = 128\n",
    "CONFIG['batch_first'] = True\n",
    "\n",
    "#Number of pretrain and training epochs\n",
    "CONFIG['pretrain_epochs'] = 3\n",
    "CONFIG['train_epochs'] = 3\n",
    "\n",
    "#Self defined coefficient to multiply with the reconstruction loss.\n",
    "CONFIG['reconstruction_coefficient'] = 1e-1  # 1e-2\n",
    "#Defines a stopping point for pre-training the encoder/decoder\n",
    "CONFIG['recon_threshold'] = 0.0005 \n",
    "CONFIG['projection_coefficient'] = 1e-1  # 1e-2\n",
    "\n",
    "#The width of the drug-drug pair's multi-hot functional representation\n",
    "CONFIG['input_dim'] = 1722\n",
    "CONFIG['num_class'] = 2\n",
    "\n",
    "#===== Encoder/Decoder Parameters =====\n",
    "CONFIG['encode_fc1_dim'] = 500  # encoder fc1\n",
    "CONFIG['encode_fc2_dim'] = 50  # encoder fc2\n",
    "CONFIG['decode_fc1_dim'] = 500  # decoder fc1\n",
    "CONFIG['decode_fc2_dim'] = CONFIG['input_dim']  # decoder reconstruction\n",
    "\n",
    "#===== Deep Predictor Parameters =====\n",
    "CONFIG['magnify_factor'] = 100\n",
    "#NOTE: The deep predictor width for this model was shrunk down to 512 from its original 1024 for the sake of speeding up training\n",
    "CONFIG['predict_dim'] = 512 # for every layer\n",
    "CONFIG['predict_out_dim'] = 1 # predictor out\n",
    "\n",
    "CONFIG['lambda1'] = 1e-2  # L1 regularization coefficient\n",
    "CONFIG['lambda2'] = 1e-1  # L2 regulatization coefficient\n",
    "CONFIG['lambda3'] = 1e-5  # L2 regulatization coefficient\n"
   ]
  },
  {
   "cell_type": "markdown",
   "metadata": {
    "id": "2NbPHUTMbkD3"
   },
   "source": [
    "##  Data:\n",
    "The data that CASTER ingests consists of 3 datasets, already integrated in the repo:\n",
    "  * unsup_dataset.csv = A dataset of randomly combined pairs of SMILEs strings drawn from FooDB (a DB of food constituent molecules) and all drugs, (including experimental, investigational, and nutraceutical) drawn from DrugBank\n",
    "    * This unsupervised dataset is used to help find frequent SMILEs substructures and train the encoder/decoder\n",
    "  * BIOSNAP/sup*.csv = A dataset from Stanford's Biomedical Network Dataset indicating pairs of SMILEs strings and presence of DDI\n",
    "    * These are the supervised datasets for training the predictor\n",
    "  * subword_units_map.csv = The 1722 frequent patterns extracted from the unsupervised strings, already produced by the sequential pattern mining (SPM) routine\n",
    "\n",
    "The 2 cells below define and load the data."
   ]
  },
  {
   "cell_type": "code",
   "execution_count": 130,
   "metadata": {},
   "outputs": [],
   "source": [
    "#===== DATASET DEFINITIONS =====\n",
    "vocab_path = \"data/codes.txt\"\n",
    "bpe_codes_fin = codecs.open(vocab_path)\n",
    "bpe = BPE(bpe_codes_fin, merges=-1, separator='')\n",
    "\n",
    "#Get frequent substructures\n",
    "vocab_map = pd.read_csv('data/subword_units_map.csv')\n",
    "idx2word = vocab_map['index'].values\n",
    "words2idx = dict(zip(idx2word, range(0, len(idx2word))))\n",
    "\n",
    "#===== Helper functions =====\n",
    "#Map 2 smiles strings into multi-hot representations of their substructures.\n",
    "def smiles_2_index(s1, s2):\n",
    "    t1 = bpe.process_line(s1).split() #split\n",
    "    t2 = bpe.process_line(s2).split() #split\n",
    "    i1 = [words2idx[i] for i in t1] # index\n",
    "    i2 = [words2idx[i] for i in t2] # index\n",
    "    return i1, i2\n",
    "\n",
    "#Combines both multi-hot representations into a single multi-hot (the functional representation)\n",
    "def index_2_multi_hot(i1, i2):\n",
    "    v_d = np.zeros(len(idx2word),dtype=np.float32)\n",
    "    v_d[i1] = 1\n",
    "    v_d[i2] = 1\n",
    "    return v_d\n",
    "\n",
    "#Combination of above: Takes two smiles strings and turns them into the multi-hot functional representation.\n",
    "def smiles_2_vector(s1, s2):\n",
    "    i1, i2 = smiles_2_index(s1, s2)\n",
    "    v_d = index_2_multi_hot(i1, i2)\n",
    "    return v_d\n",
    "\n",
    "#===== Datasets =====\n",
    "class sup_data(data.Dataset):\n",
    "\n",
    "    def __init__(self, list_IDs, labels, df_ddi):\n",
    "        'Initialization'\n",
    "        self.labels = labels\n",
    "        self.list_IDs = list_IDs\n",
    "        self.df = df_ddi\n",
    "        \n",
    "    def __len__(self):\n",
    "        'Denotes the total number of samples'\n",
    "        return len(self.list_IDs)\n",
    "\n",
    "    def __getitem__(self, index):\n",
    "        'Generates one sample of data'\n",
    "        # Select sample\n",
    "        index = self.list_IDs[index]\n",
    "        # Load data from sample and get multi-hot\n",
    "        s1 = self.df.iloc[index].Drug1_SMILES\n",
    "        s2 = self.df.iloc[index].Drug2_SMILES\n",
    "        v_d = smiles_2_vector(s1, s2)\n",
    "        #Get label\n",
    "        y = self.labels[index]\n",
    "        #Return combined multi-hot and its label.\n",
    "        return v_d, y\n",
    "    \n",
    "class unsup_data(data.Dataset):\n",
    "\n",
    "    def __init__(self, list_IDs, df):\n",
    "        'Initialization'\n",
    "        self.list_IDs = list_IDs\n",
    "        self.df = df\n",
    "\n",
    "    def __len__(self):\n",
    "        'Denotes the total number of samples'\n",
    "        return len(self.list_IDs)\n",
    "\n",
    "    def __getitem__(self, index):\n",
    "        'Generates one sample of data'\n",
    "        # Load data and get label\n",
    "        index = self.list_IDs[index]\n",
    "        s1 = self.df.iloc[index].input1_SMILES\n",
    "        s2 = self.df.iloc[index].input2_SMILES\n",
    "        v_d = smiles_2_vector(s1, s2)\n",
    "        return v_d"
   ]
  },
  {
   "cell_type": "code",
   "execution_count": 131,
   "metadata": {
    "id": "BZScZNbROw-N"
   },
   "outputs": [
    {
     "name": "stdout",
     "output_type": "stream",
     "text": [
      "==============================\n",
      "TOTAL UNSUPERVISED SET\n",
      "==============================\n",
      "# of samples: 441853\n",
      "# of drug-food pairs: 220926\n",
      "# of drug-drug pairs: 220927\n",
      "\n",
      "\n",
      "==============================\n",
      "BIOSNAP TRAIN/VAL SET\n",
      "==============================\n",
      "# of samples: 66432\n",
      "# of DDIs: 33243\n"
     ]
    }
   ],
   "source": [
    "#Read datasets\n",
    "df_unsup = pd.read_csv('data/unsup_dataset.csv', \n",
    "                       names = ['idx', 'input1_SMILES', 'input2_SMILES', 'type']).drop(0)# pairs dataframe input1_smiles, input2_smiles\n",
    "df_ddi = pd.read_csv('data/BIOSNAP/sup_train_val.csv')  # ddi dataframe drug1_smiles, drug2_smiles\n",
    "df_ddi.label = df_ddi.label.astype('float32')\n",
    "\n",
    "#Print some basic info about the datasets \n",
    "print(\"=\"*30)\n",
    "print(\"TOTAL UNSUPERVISED SET\")\n",
    "print(\"=\"*30)\n",
    "print(\"# of samples:\",len(df_unsup))\n",
    "print(\"# of drug-food pairs:\",sum(df_unsup.type == \"df_pair\"))\n",
    "print(\"# of drug-drug pairs:\",sum(df_unsup.type == \"dd_pair\"))\n",
    "print(\"\\n\")\n",
    "print(\"=\"*30)\n",
    "print(\"BIOSNAP TRAIN/VAL SET\")\n",
    "print(\"=\"*30)\n",
    "print(\"# of samples:\",len(df_ddi))\n",
    "print(\"# of DDIs:\",sum(df_ddi.label == 1.0))\n",
    "\n",
    "#K-fold cross-validation.\n",
    "kf = KFold(n_splits = 8, shuffle = True, random_state = 3)\n",
    "\n",
    "#Get the 1st fold index\n",
    "fold_index = next(kf.split(df_ddi), None)\n",
    "\n",
    "ids_unsup = df_unsup.index.values\n",
    "partition_sup = {'train': fold_index[0], 'val': fold_index[1]}\n",
    "labels_sup = df_ddi.label.values\n",
    "\n",
    "LOADER_PARAMS = {\n",
    "    'batch_size': CONFIG[\"batch_size\"],\n",
    "    'shuffle': True,\n",
    "    'num_workers': 0\n",
    "    }\n",
    "\n",
    "unsup_set = unsup_data(ids_unsup, df_unsup)\n",
    "unsup_generator = data.DataLoader(unsup_set, **LOADER_PARAMS)\n",
    "\n",
    "training_set = sup_data(partition_sup['train'], labels_sup, df_ddi)\n",
    "training_generator_sup = data.DataLoader(training_set, **LOADER_PARAMS)\n",
    "\n",
    "validation_set = sup_data(partition_sup['val'], labels_sup, df_ddi)\n",
    "validation_generator_sup = data.DataLoader(validation_set, **LOADER_PARAMS)"
   ]
  },
  {
   "cell_type": "markdown",
   "metadata": {
    "id": "3muyDPFPbozY"
   },
   "source": [
    "## Model Definition:\n",
    "\n",
    "Based on CASTER's github, the model was defined with the following parameters:\n",
    "* Encoder/Decoder: 2 Layer 500x50 NNs with ReLU activations\n",
    "* Predictor: 7 Layer 1024 wide NNs with ReLU activations\n",
    "    * For the sake of speeding up local training, the predictor width was reduced to 512 and we reduced the depth by 1 layer.\n",
    "* Optimizer: Adam with learning rate = 1e-3\n",
    "* Batch Size: 256\n",
    "    * For the sake of speeding up local training, the batch size was trimmed to 128.\n",
    "\n",
    "## **TODO: Expand**\n",
    "\n",
    "The cell below defines and instantiates the model.\n"
   ]
  },
  {
   "cell_type": "code",
   "execution_count": 132,
   "metadata": {
    "id": "gBdVZoTvsSFV"
   },
   "outputs": [],
   "source": [
    "class CASTER(nn.Sequential):\n",
    "\n",
    "    def __init__(self, **config):\n",
    "        super(CASTER, self).__init__()\n",
    "        self.input_dim = config['input_dim']\n",
    "        self.num_class = config['num_class']\n",
    "        self.lambda3 = config['lambda3']        \n",
    "        self.encode_fc1_dim = config['encode_fc1_dim']\n",
    "        self.encode_fc2_dim = config['encode_fc2_dim']\n",
    "        self.decode_fc1_dim = config['decode_fc1_dim']\n",
    "        self.decode_fc2_dim = config['decode_fc2_dim']\n",
    "        self.predict_dim = config['predict_dim']\n",
    "        self.predict_out_dim = config['predict_out_dim']\n",
    "        self.mag_factor = config['magnify_factor']        \n",
    "\n",
    "        # encoder:\n",
    "        self.encoder = nn.Sequential(\n",
    "            nn.Linear(self.input_dim, self.encode_fc1_dim),\n",
    "            nn.ReLU(True),\n",
    "            nn.Linear(self.encode_fc1_dim, self.encode_fc2_dim)\n",
    "        )\n",
    "        \n",
    "        # decoder:\n",
    "        self.decoder = nn.Sequential(\n",
    "            nn.Linear(self.encode_fc2_dim, self.decode_fc1_dim),\n",
    "            nn.ReLU(True),\n",
    "            nn.Linear(self.decode_fc1_dim, self.decode_fc2_dim)\n",
    "        )\n",
    "\n",
    "        # predictor:\n",
    "        self.predictor = nn.Sequential(\n",
    "            # layer 1\n",
    "            nn.Linear(self.input_dim, self.predict_dim),\n",
    "            nn.ReLU(True),\n",
    "            # layer 2\n",
    "            nn.BatchNorm1d(self.predict_dim),\n",
    "            nn.Linear(self.predict_dim, self.predict_dim),\n",
    "            nn.ReLU(True),\n",
    "            # layer 3\n",
    "            nn.BatchNorm1d(self.predict_dim),\n",
    "            nn.Linear(self.predict_dim, self.predict_dim),\n",
    "            nn.ReLU(True),\n",
    "            # layer 4\n",
    "            nn.BatchNorm1d(self.predict_dim),\n",
    "            nn.Linear(self.predict_dim, self.predict_dim),\n",
    "            nn.ReLU(True),\n",
    "            # layer 5\n",
    "            nn.BatchNorm1d(self.predict_dim),\n",
    "            nn.Linear(self.predict_dim, self.predict_dim),\n",
    "            nn.ReLU(True),\n",
    "            # layer 6\n",
    "            nn.BatchNorm1d(self.predict_dim),\n",
    "            nn.Linear(self.predict_dim, 64),\n",
    "            nn.ReLU(True),\n",
    "            # output layer\n",
    "            nn.Linear(64, self.predict_out_dim)\n",
    "        )\n",
    "\n",
    "    def dictionary_encoder(self, z, latent_dict):\n",
    "        '''\n",
    "        :param z: batch_size x encode_fc2_dim\n",
    "        :param latent_dict: encode_fc2_dim x eta\n",
    "        :return: sparse code r: batch_size x eta\n",
    "        '''       \n",
    "        \n",
    "        DTD = torch.matmul(latent_dict, latent_dict.transpose(2, 1))  # D is Dictionary;  D^T D encode_dim x eta\n",
    "        temp = DTD + self.lambda3 * torch.eye(self.input_dim)\n",
    "        DTD_inv = torch.inverse(temp)  # (D^T D + \\lambda2 I )^{-1} D^T D, eta x eta\n",
    "        DTD_inv_DT = torch.matmul(DTD_inv, latent_dict)  \n",
    "\n",
    "        r = z[:,None,:].matmul(DTD_inv_DT.transpose(2, 1)).squeeze(1) # batch_size x eta    \n",
    "        return r\n",
    "\n",
    "    def forward(self, x_vec):\n",
    "        '''\n",
    "        :param x_vec: batch_size x width of multi-hot functional\n",
    "        :return: recon, r_vec, score\n",
    "        '''\n",
    "        _, x_width = x_vec.shape\n",
    "        \n",
    "        # Encode functional representation into latent representation \n",
    "        z_vec = self.encoder(x_vec)\n",
    "        \n",
    "        # Create latent dictionary using encoder\n",
    "        latent_dict = self.encoder(torch.eye(x_width))\n",
    "        latent_dict = latent_dict.mul(x_vec[:,:,None]) \n",
    "        \n",
    "        # Use dictionary to get coeffs/r_vec\n",
    "        r_vec = self.dictionary_encoder(z_vec, latent_dict)\n",
    "\n",
    "        # Pass coeffs through the deep predictor\n",
    "        score = self.predictor(self.mag_factor * r_vec)\n",
    "\n",
    "        # Decode latent representation\n",
    "        recon_temp = self.decoder(z_vec)\n",
    "        reconstructed = torch.sigmoid(recon_temp)\n",
    "        \n",
    "        # print(reconstructed, r_vec, score, latent_dict, z_vec)\n",
    "        return reconstructed, r_vec, score, latent_dict, z_vec\n",
    "\n",
    "#Instantiated model\n",
    "caster_model = CASTER(**CONFIG)"
   ]
  },
  {
   "cell_type": "markdown",
   "metadata": {},
   "source": [
    "## Training:\n",
    "Training proceeds in two phases. \n",
    "1. **Pre-training:**\n",
    "    * This phase is focused on getting the autoencoder to find the most efficient latent representation for the functional representation. Note that the classification loss is excluded in the phase, so the autoencoder gets a \"head start\".\n",
    "2. **Training:**\n",
    "    * This phase trains the predictor with the linear coefficients (combination of latent dictionary w/ latent representation). Classification loss is added back into this phase.\n",
    "\n",
    "### Notes on Hardware and Runtime:\n",
    "The workstation this notebook was run on contains a Ryzen 7 5700x CPU and 48 GB of RAM. We did not utilize any CUDA enabled GPU.\n",
    "This expectedly makes the time per iteration of each epoch somewhat slower. For example: 1 epoch of the pre-training cycle containing 3452 iterations, thus the time to train per epoch would be around *13 hours*.\n",
    "\n",
    "For the sake of brevity, we've added a `QUICK_TRAIN_DEMO` parameter was added into the `CONFIG` cell to allow for a quick demo of 128 iterations.\n",
    "\n",
    "On Windows, the runtimes were:\n",
    "* Pre-Training & Training : ~50 sec / iteration\n",
    "* Evaluation : ~12 sec / iteration\n",
    "\n",
    "However, using WSL (Ubuntu 22.04), runtimes were:\n",
    "* Pre-Training & Training : ~13.5 sec / iteration\n",
    "* Evaluation : ~6 sec / iteration\n",
    "\n",
    "Performance profiling the script revealed that the slowest operation was the matrix inverse operation in the dictionary encoder.\n"
   ]
  },
  {
   "cell_type": "code",
   "execution_count": 133,
   "metadata": {},
   "outputs": [],
   "source": [
    "#Misc loss histories\n",
    "loss_r_history = []\n",
    "loss_p_history = []\n",
    "loss_c_history = []\n",
    "loss_history = []\n",
    "\n",
    "#How many epochs to devote to training the encoder/decoder\n",
    "PRETRAIN_EPOCHS = CONFIG['pretrain_epochs']\n",
    "#Defines an early stopping point for pre-training the encoder/decoder\n",
    "RECON_THRESH = CONFIG['recon_threshold']\n",
    "#Self defined coefficient to multiply with the reconstruction loss.\n",
    "RECON_LOSS_COEFF = CONFIG['reconstruction_coefficient']\n",
    "#How many epochs to train the full model\n",
    "TRAIN_EPOCHS = CONFIG[\"train_epochs\"]\n",
    "PROJ_COEFF = CONFIG['projection_coefficient']\n",
    "LAM1 = CONFIG['lambda1']\n",
    "LAM2 = CONFIG['lambda2']\n",
    "\n",
    "LR = CONFIG['LR']\n",
    "BATCH_SIZE = CONFIG[\"batch_size\"]\n",
    "opt = torch.optim.Adam(caster_model.parameters(), lr = LR)"
   ]
  },
  {
   "cell_type": "code",
   "execution_count": 134,
   "metadata": {},
   "outputs": [
    {
     "name": "stdout",
     "output_type": "stream",
     "text": [
      "QUICK DEMO ACTIVE\n"
     ]
    },
    {
     "name": "stderr",
     "output_type": "stream",
     "text": [
      "1it [00:13, 13.35s/it]"
     ]
    },
    {
     "name": "stdout",
     "output_type": "stream",
     "text": [
      "Pre-Training at Epoch 0 iteration 0, total loss is 4.105, proj loss is 4.036, recon loss is 0.069\n"
     ]
    },
    {
     "name": "stderr",
     "output_type": "stream",
     "text": [
      "11it [02:26, 13.25s/it]"
     ]
    },
    {
     "name": "stdout",
     "output_type": "stream",
     "text": [
      "Pre-Training at Epoch 0 iteration 10, total loss is 1.655, proj loss is 1.595, recon loss is 0.060\n"
     ]
    },
    {
     "name": "stderr",
     "output_type": "stream",
     "text": [
      "21it [04:39, 13.33s/it]"
     ]
    },
    {
     "name": "stdout",
     "output_type": "stream",
     "text": [
      "Pre-Training at Epoch 0 iteration 20, total loss is 1.116, proj loss is 1.066, recon loss is 0.050\n"
     ]
    },
    {
     "name": "stderr",
     "output_type": "stream",
     "text": [
      "31it [06:51, 13.30s/it]"
     ]
    },
    {
     "name": "stdout",
     "output_type": "stream",
     "text": [
      "Pre-Training at Epoch 0 iteration 30, total loss is 0.861, proj loss is 0.822, recon loss is 0.039\n"
     ]
    },
    {
     "name": "stderr",
     "output_type": "stream",
     "text": [
      "41it [09:04, 13.16s/it]"
     ]
    },
    {
     "name": "stdout",
     "output_type": "stream",
     "text": [
      "Pre-Training at Epoch 0 iteration 40, total loss is 0.633, proj loss is 0.604, recon loss is 0.029\n"
     ]
    },
    {
     "name": "stderr",
     "output_type": "stream",
     "text": [
      "51it [11:15, 13.19s/it]"
     ]
    },
    {
     "name": "stdout",
     "output_type": "stream",
     "text": [
      "Pre-Training at Epoch 0 iteration 50, total loss is 0.481, proj loss is 0.461, recon loss is 0.021\n"
     ]
    },
    {
     "name": "stderr",
     "output_type": "stream",
     "text": [
      "61it [13:29, 13.39s/it]"
     ]
    },
    {
     "name": "stdout",
     "output_type": "stream",
     "text": [
      "Pre-Training at Epoch 0 iteration 60, total loss is 0.348, proj loss is 0.334, recon loss is 0.015\n"
     ]
    },
    {
     "name": "stderr",
     "output_type": "stream",
     "text": [
      "71it [15:42, 13.36s/it]"
     ]
    },
    {
     "name": "stdout",
     "output_type": "stream",
     "text": [
      "Pre-Training at Epoch 0 iteration 70, total loss is 0.256, proj loss is 0.245, recon loss is 0.011\n"
     ]
    },
    {
     "name": "stderr",
     "output_type": "stream",
     "text": [
      "81it [17:56, 13.48s/it]"
     ]
    },
    {
     "name": "stdout",
     "output_type": "stream",
     "text": [
      "Pre-Training at Epoch 0 iteration 80, total loss is 0.183, proj loss is 0.174, recon loss is 0.009\n"
     ]
    },
    {
     "name": "stderr",
     "output_type": "stream",
     "text": [
      "91it [20:11, 13.46s/it]"
     ]
    },
    {
     "name": "stdout",
     "output_type": "stream",
     "text": [
      "Pre-Training at Epoch 0 iteration 90, total loss is 0.137, proj loss is 0.130, recon loss is 0.008\n"
     ]
    },
    {
     "name": "stderr",
     "output_type": "stream",
     "text": [
      "101it [22:25, 13.49s/it]"
     ]
    },
    {
     "name": "stdout",
     "output_type": "stream",
     "text": [
      "Pre-Training at Epoch 0 iteration 100, total loss is 0.111, proj loss is 0.105, recon loss is 0.007\n"
     ]
    },
    {
     "name": "stderr",
     "output_type": "stream",
     "text": [
      "111it [24:39, 13.35s/it]"
     ]
    },
    {
     "name": "stdout",
     "output_type": "stream",
     "text": [
      "Pre-Training at Epoch 0 iteration 110, total loss is 0.091, proj loss is 0.085, recon loss is 0.006\n"
     ]
    },
    {
     "name": "stderr",
     "output_type": "stream",
     "text": [
      "121it [26:53, 13.38s/it]"
     ]
    },
    {
     "name": "stdout",
     "output_type": "stream",
     "text": [
      "Pre-Training at Epoch 0 iteration 120, total loss is 0.074, proj loss is 0.068, recon loss is 0.006\n"
     ]
    },
    {
     "name": "stderr",
     "output_type": "stream",
     "text": [
      "128it [28:41, 13.45s/it]"
     ]
    },
    {
     "name": "stdout",
     "output_type": "stream",
     "text": [
      "Done with pre-training.\n"
     ]
    },
    {
     "name": "stderr",
     "output_type": "stream",
     "text": [
      "\n"
     ]
    }
   ],
   "source": [
    "#===== PRE-TRAINING =====\n",
    "len_unsup = len(unsup_generator)\n",
    "\n",
    "if QUICK_TRAIN_DEMO:\n",
    "    print(\"QUICK DEMO ACTIVE\")\n",
    "\n",
    "for pre_epo in range(PRETRAIN_EPOCHS):\n",
    "\n",
    "    #Use unsupervised datasat to train encoder/decoder\n",
    "    for iter_idx, v_D in tqdm(enumerate(unsup_generator)):\n",
    "        v_D = v_D.float()\n",
    "\n",
    "        recon, code, score, Z_f, z_D = caster_model(v_D)\n",
    "        \n",
    "        loss_r = RECON_LOSS_COEFF * F.binary_cross_entropy(recon, v_D)\n",
    "        \n",
    "        loss_p = PROJ_COEFF * (torch.norm(z_D - torch.matmul(code, Z_f)) + \\\n",
    "                LAM1 * torch.sum(torch.abs(code)) / BATCH_SIZE + \\\n",
    "                LAM2 * torch.norm(Z_f, p='fro') / BATCH_SIZE)\n",
    "        \n",
    "        total_loss = loss_r + loss_p\n",
    "        \n",
    "        loss_r_history.append(loss_r.detach())\n",
    "        loss_p_history.append(loss_p.detach())\n",
    "        loss_history.append(total_loss.detach())\n",
    "\n",
    "        opt.zero_grad()\n",
    "        total_loss.backward()\n",
    "        opt.step()\n",
    "        \n",
    "        if(iter_idx % 10 == 0):\n",
    "            print('Pre-Training at Epoch ' + str(pre_epo) + \\\n",
    "                    ' iteration ' + str(iter_idx) + \\\n",
    "                    ', total loss is ' + '%.3f' % (total_loss.cpu().detach().numpy()) + \\\n",
    "                    ', proj loss is ' + '%.3f' % (loss_p.cpu().detach().numpy()) + \\\n",
    "                    ', recon loss is ' + '%.3f' % (loss_r.cpu().detach().numpy()))\n",
    "        \n",
    "        # save pretraining checkpoint for reuse\n",
    "        if iter_idx == int(len_unsup/4):\n",
    "            torch.save(caster_model, 'model_pretrain_checkpoint_1.pt')\n",
    "        if iter_idx == int(len_unsup/2):\n",
    "            torch.save(caster_model, 'model_pretrain_checkpoint_1.pt')\n",
    "\n",
    "        #If the reconstruction loss is smaller than the specified threshold, finish the pre-training and go train.\n",
    "        if QUICK_TRAIN_DEMO and iter_idx >= 128 or loss_r < RECON_THRESH:\n",
    "            break\n",
    "    if QUICK_TRAIN_DEMO:\n",
    "        break\n",
    "print(\"Done with pre-training.\")"
   ]
  },
  {
   "cell_type": "code",
   "execution_count": 135,
   "metadata": {},
   "outputs": [
    {
     "name": "stdout",
     "output_type": "stream",
     "text": [
      "QUICK DEMO ACTIVE\n"
     ]
    },
    {
     "name": "stderr",
     "output_type": "stream",
     "text": [
      "1it [00:13, 13.32s/it]"
     ]
    },
    {
     "name": "stdout",
     "output_type": "stream",
     "text": [
      "Training at Epoch 0 iteration 0, total loss is 0.756, proj loss is 0.048, recon loss is 0.006, classification loss is 0.701\n"
     ]
    },
    {
     "name": "stderr",
     "output_type": "stream",
     "text": [
      "11it [02:27, 13.43s/it]"
     ]
    },
    {
     "name": "stdout",
     "output_type": "stream",
     "text": [
      "Training at Epoch 0 iteration 10, total loss is 0.816, proj loss is 0.196, recon loss is 0.006, classification loss is 0.615\n"
     ]
    },
    {
     "name": "stderr",
     "output_type": "stream",
     "text": [
      "21it [04:41, 13.44s/it]"
     ]
    },
    {
     "name": "stdout",
     "output_type": "stream",
     "text": [
      "Training at Epoch 0 iteration 20, total loss is 0.706, proj loss is 0.127, recon loss is 0.006, classification loss is 0.573\n"
     ]
    },
    {
     "name": "stderr",
     "output_type": "stream",
     "text": [
      "31it [06:56, 13.50s/it]"
     ]
    },
    {
     "name": "stdout",
     "output_type": "stream",
     "text": [
      "Training at Epoch 0 iteration 30, total loss is 0.722, proj loss is 0.155, recon loss is 0.006, classification loss is 0.561\n"
     ]
    },
    {
     "name": "stderr",
     "output_type": "stream",
     "text": [
      "41it [09:10, 13.44s/it]"
     ]
    },
    {
     "name": "stdout",
     "output_type": "stream",
     "text": [
      "Training at Epoch 0 iteration 40, total loss is 0.696, proj loss is 0.207, recon loss is 0.005, classification loss is 0.484\n"
     ]
    },
    {
     "name": "stderr",
     "output_type": "stream",
     "text": [
      "51it [11:24, 13.42s/it]"
     ]
    },
    {
     "name": "stdout",
     "output_type": "stream",
     "text": [
      "Training at Epoch 0 iteration 50, total loss is 0.608, proj loss is 0.187, recon loss is 0.005, classification loss is 0.415\n"
     ]
    },
    {
     "name": "stderr",
     "output_type": "stream",
     "text": [
      "61it [13:38, 13.43s/it]"
     ]
    },
    {
     "name": "stdout",
     "output_type": "stream",
     "text": [
      "Training at Epoch 0 iteration 60, total loss is 0.645, proj loss is 0.161, recon loss is 0.005, classification loss is 0.479\n"
     ]
    },
    {
     "name": "stderr",
     "output_type": "stream",
     "text": [
      "71it [15:52, 13.36s/it]"
     ]
    },
    {
     "name": "stdout",
     "output_type": "stream",
     "text": [
      "Training at Epoch 0 iteration 70, total loss is 0.575, proj loss is 0.180, recon loss is 0.005, classification loss is 0.389\n"
     ]
    },
    {
     "name": "stderr",
     "output_type": "stream",
     "text": [
      "81it [18:06, 13.46s/it]"
     ]
    },
    {
     "name": "stdout",
     "output_type": "stream",
     "text": [
      "Training at Epoch 0 iteration 80, total loss is 0.631, proj loss is 0.191, recon loss is 0.005, classification loss is 0.435\n"
     ]
    },
    {
     "name": "stderr",
     "output_type": "stream",
     "text": [
      "91it [20:21, 13.45s/it]"
     ]
    },
    {
     "name": "stdout",
     "output_type": "stream",
     "text": [
      "Training at Epoch 0 iteration 90, total loss is 0.590, proj loss is 0.175, recon loss is 0.005, classification loss is 0.409\n"
     ]
    },
    {
     "name": "stderr",
     "output_type": "stream",
     "text": [
      "101it [22:35, 13.43s/it]"
     ]
    },
    {
     "name": "stdout",
     "output_type": "stream",
     "text": [
      "Training at Epoch 0 iteration 100, total loss is 0.579, proj loss is 0.143, recon loss is 0.005, classification loss is 0.431\n"
     ]
    },
    {
     "name": "stderr",
     "output_type": "stream",
     "text": [
      "111it [24:49, 13.44s/it]"
     ]
    },
    {
     "name": "stdout",
     "output_type": "stream",
     "text": [
      "Training at Epoch 0 iteration 110, total loss is 0.608, proj loss is 0.191, recon loss is 0.005, classification loss is 0.412\n"
     ]
    },
    {
     "name": "stderr",
     "output_type": "stream",
     "text": [
      "121it [27:04, 13.45s/it]"
     ]
    },
    {
     "name": "stdout",
     "output_type": "stream",
     "text": [
      "Training at Epoch 0 iteration 120, total loss is 0.557, proj loss is 0.183, recon loss is 0.005, classification loss is 0.369\n"
     ]
    },
    {
     "name": "stderr",
     "output_type": "stream",
     "text": [
      "128it [28:51, 13.53s/it]"
     ]
    },
    {
     "name": "stdout",
     "output_type": "stream",
     "text": [
      "Done with training.\n"
     ]
    },
    {
     "name": "stderr",
     "output_type": "stream",
     "text": [
      "\n"
     ]
    }
   ],
   "source": [
    "#===== TRAINING =====\n",
    "\n",
    "sigmoid = torch.nn.Sigmoid()\n",
    "bce_loss = torch.nn.BCELoss()\n",
    "\n",
    "if QUICK_TRAIN_DEMO:\n",
    "    print(\"QUICK DEMO ACTIVE\")\n",
    "\n",
    "for tr_epo in range(TRAIN_EPOCHS):\n",
    "    for iter_idx, (v_D, label) in tqdm(enumerate(training_generator_sup)):\n",
    "        v_D = v_D.float()\n",
    "        recon, code, score, Z_f, z_D = caster_model(v_D)\n",
    "        label = Variable(torch.from_numpy(np.array(label)).long())\n",
    "        n = torch.squeeze(sigmoid(score))\n",
    "        \n",
    "        loss_c = bce_loss(n, label.float())\n",
    "        loss_r = RECON_LOSS_COEFF * F.binary_cross_entropy(recon, v_D)\n",
    "        \n",
    "        loss_p =    PROJ_COEFF * (torch.norm(z_D - torch.matmul(code, Z_f)) + \\\n",
    "                    LAM1 * torch.sum(torch.abs(code)) / BATCH_SIZE + \\\n",
    "                    LAM2 * torch.norm(Z_f, p='fro') / BATCH_SIZE)\n",
    "        \n",
    "        total_loss = loss_c + loss_r + loss_p\n",
    "        loss_r_history.append(loss_r.detach())\n",
    "        loss_p_history.append(loss_p.detach())\n",
    "        loss_c_history.append(loss_c.detach())\n",
    "        loss_history.append(total_loss.detach())\n",
    "\n",
    "        opt.zero_grad()\n",
    "        total_loss.backward()\n",
    "        opt.step()\n",
    "\n",
    "        if iter_idx % 10 == 0:        \n",
    "            print(  'Training at Epoch ' + str(tr_epo) + \\\n",
    "                    ' iteration ' + str(iter_idx) + \\\n",
    "                    ', total loss is ' + '%.3f' % (total_loss.detach().numpy()) + \\\n",
    "                    ', proj loss is ' + '%.3f' % (loss_p.detach().numpy()) + \\\n",
    "                    ', recon loss is ' + '%.3f' % (loss_r.detach().numpy()) + \\\n",
    "                    ', classification loss is ' + '%.3f' % (loss_c.detach().numpy()))\n",
    "        \n",
    "        if QUICK_TRAIN_DEMO and iter_idx >= 128:\n",
    "            break\n",
    "    if QUICK_TRAIN_DEMO:\n",
    "        break\n",
    "    \n",
    "#Save the final model.\n",
    "torch.save(caster_model, 'model_nn_trained.pt')\n",
    "print(\"Done with training.\")"
   ]
  },
  {
   "cell_type": "markdown",
   "metadata": {},
   "source": [
    "## Ablation Model: Logistic Regression\n",
    "\n",
    "![ablation_location](img/where_to_put_ablation.png)\n",
    "\n",
    "One of the ablations we proposed (and was also suggested in the paper) was using logistic regression (LR) versus CASTER's deep predictor. Specifically, the pair's functional representation (sub-structured/post pattern-mined) is classified using LR. According to the paper, though far lighter in parameter count, it was not chosen due its weaker performance. Weaker performance is expected since the decision boundary for determining DDIs would presumably be highly non-linear. For brevity, definition and training have been combined into the cell below. We train the log reg model for 36 epochs using SGD at LR=1e-3."
   ]
  },
  {
   "cell_type": "code",
   "execution_count": 136,
   "metadata": {},
   "outputs": [
    {
     "name": "stdout",
     "output_type": "stream",
     "text": [
      "Training log reg for 36 epochs\n"
     ]
    },
    {
     "name": "stderr",
     "output_type": "stream",
     "text": [
      "  3%|▎         | 1/36 [00:05<02:55,  5.02s/it]"
     ]
    },
    {
     "name": "stdout",
     "output_type": "stream",
     "text": [
      "Epoch: 0. Loss: 0.6785504221916199.\n"
     ]
    },
    {
     "name": "stderr",
     "output_type": "stream",
     "text": [
      " 25%|██▌       | 9/36 [00:43<02:10,  4.82s/it]"
     ]
    },
    {
     "name": "stdout",
     "output_type": "stream",
     "text": [
      "Epoch: 8. Loss: 0.6630455255508423.\n"
     ]
    },
    {
     "name": "stderr",
     "output_type": "stream",
     "text": [
      " 47%|████▋     | 17/36 [01:22<01:31,  4.81s/it]"
     ]
    },
    {
     "name": "stdout",
     "output_type": "stream",
     "text": [
      "Epoch: 16. Loss: 0.5160249471664429.\n"
     ]
    },
    {
     "name": "stderr",
     "output_type": "stream",
     "text": [
      " 69%|██████▉   | 25/36 [02:00<00:52,  4.80s/it]"
     ]
    },
    {
     "name": "stdout",
     "output_type": "stream",
     "text": [
      "Epoch: 24. Loss: 0.6100924611091614.\n"
     ]
    },
    {
     "name": "stderr",
     "output_type": "stream",
     "text": [
      " 92%|█████████▏| 33/36 [02:39<00:14,  4.79s/it]"
     ]
    },
    {
     "name": "stdout",
     "output_type": "stream",
     "text": [
      "Epoch: 32. Loss: 0.5308558344841003.\n"
     ]
    },
    {
     "name": "stderr",
     "output_type": "stream",
     "text": [
      "100%|██████████| 36/36 [02:53<00:00,  4.82s/it]"
     ]
    },
    {
     "name": "stdout",
     "output_type": "stream",
     "text": [
      "Done training LR.\n"
     ]
    },
    {
     "name": "stderr",
     "output_type": "stream",
     "text": [
      "\n"
     ]
    }
   ],
   "source": [
    "class simple_log_reg(nn.Module):\n",
    "\n",
    "    def __init__(self, n_inputs, n_outputs):\n",
    "        super(simple_log_reg, self).__init__()\n",
    "        self.linear = torch.nn.Linear(n_inputs, n_outputs)\n",
    "    \n",
    "    def forward(self,x):\n",
    "        pred = torch.sigmoid(self.linear(x))\n",
    "        return pred[:,-1]\n",
    "\n",
    "n_inputs = CONFIG[\"input_dim\"]\n",
    "n_outputs = 1\n",
    "\n",
    "#Instantiate log reg classifier\n",
    "log_reg_model = simple_log_reg(n_inputs, n_outputs)\n",
    "\n",
    "#Using SGD for simplicity\n",
    "log_reg_optimizer = torch.optim.SGD(log_reg_model.parameters(), lr=0.001)\n",
    "log_reg_criterion = torch.nn.BCELoss()\n",
    "\n",
    "epochs = 36\n",
    "print(\"Training log reg for {} epochs\".format(epochs))\n",
    "for epoch in tqdm(range(epochs)):\n",
    "    for x_vec, y in training_generator_sup:\n",
    "        log_reg_optimizer.zero_grad()\n",
    "        log_reg_y_pred = log_reg_model(x_vec)\n",
    "        total_loss = log_reg_criterion(log_reg_y_pred, y)\n",
    "        total_loss.backward()\n",
    "        log_reg_optimizer.step()\n",
    "    if epoch % 8 == 0:\n",
    "        print('Epoch: {}. Loss: {}.'.format(epoch, total_loss.item()))\n",
    "print(\"Done training LR.\")"
   ]
  },
  {
   "cell_type": "markdown",
   "metadata": {
    "id": "gX6bCcZNuxmz"
   },
   "source": [
    "# Results:\n",
    "---\n",
    "To begin the evaluation process, we iterate through a test data set using a data loader to obtain the predictions (y_pred) from the model for each input (v_D). We then use the ground truth labels (y_label) to which we compare our predictions to calculate the evaluation metrics.\n",
    "\n",
    "The evaluation metrics used here include some of the most commonly used metrics to assess the performance of binary models: \n",
    "\n",
    "* **Average Precision Score**: Measures the precision-recall trade-off by summarizing the precision-recall curve as a weighted mean of precisions achieved at various thresholds.\n",
    "\n",
    "* **Area under the ROC Curve (AUC)**: Describes the trade-off between true-positive rate and false-positive rate. It essentially quantifies the ability of the model to distingush between classes.\n",
    "\n",
    "* **F1-Score**: Harmonic mean of precision and recall, combines precision and recall scores into a single value."
   ]
  },
  {
   "cell_type": "code",
   "execution_count": 144,
   "metadata": {
    "id": "LjW9bCkouv8O"
   },
   "outputs": [
    {
     "name": "stdout",
     "output_type": "stream",
     "text": [
      "QUICK DEMO ACTIVE\n"
     ]
    },
    {
     "name": "stderr",
     "output_type": "stream",
     "text": [
      "33it [03:29,  6.36s/it]\n"
     ]
    }
   ],
   "source": [
    "params = {\n",
    "        'batch_size': 128,\n",
    "        'shuffle': True,\n",
    "        'num_workers': 0\n",
    "        }\n",
    "\n",
    "test_set = sup_data(df_ddi.index.values, labels_sup, df_ddi)\n",
    "test_generator_sup = data.DataLoader(test_set, **params)\n",
    "\n",
    "log_reg_y_pred = []\n",
    "log_reg_y_label = []\n",
    "\n",
    "caster_y_pred = []\n",
    "caster_y_label = []\n",
    "\n",
    "#Set caster model to eval\n",
    "caster_model.eval()\n",
    "\n",
    "#Set log reg to eval\n",
    "log_reg_model.eval()\n",
    "\n",
    "sigmoid = torch.nn.Sigmoid()\n",
    "\n",
    "if QUICK_TRAIN_DEMO:\n",
    "    print(\"QUICK DEMO ACTIVE\")\n",
    "\n",
    "for iter_idx, (v_D, label) in tqdm(enumerate(test_generator_sup)):\n",
    "    label_ids = label.to('cpu').numpy()\n",
    "\n",
    "    recon, r_vec, score, latent_dict, z_D = caster_model(v_D.float())\n",
    "    logits = torch.squeeze(sigmoid(score)).detach().cpu().numpy()\n",
    "    caster_y_label = caster_y_label + label_ids.flatten().tolist()\n",
    "    caster_y_pred = caster_y_pred + logits.flatten().tolist()\n",
    "\n",
    "    log_reg_outputs = log_reg_model(v_D.float())\n",
    "    log_reg_y_label = log_reg_y_label + label_ids.flatten().tolist()\n",
    "    log_reg_y_pred = log_reg_y_pred + log_reg_outputs.flatten().tolist()\n",
    "    \n",
    "    #Stop early at 32 iterations if QUICK_DEMO\n",
    "    if QUICK_TRAIN_DEMO and iter_idx > 32:\n",
    "        break"
   ]
  },
  {
   "cell_type": "markdown",
   "metadata": {},
   "source": [
    "In the following cells, we will plot the precision-recall curve and the AUC described above. The precision-recall curve demonstrates the precision of the model at various recall levels. This gives us an idea of the model's ability to identify positive occurences with false positives minimized.\n",
    "\n",
    "Overall, using these metrics and evaluations, we get a clear picture of the model's performance across different thresholds."
   ]
  },
  {
   "cell_type": "code",
   "execution_count": 154,
   "metadata": {},
   "outputs": [
    {
     "name": "stdout",
     "output_type": "stream",
     "text": [
      "CASTER AP: 0.9162180480279457\n",
      "CASTER PR-AUC: 0.9161839105980577\n"
     ]
    },
    {
     "data": {
      "image/png": "[encoded data removed]",
      "text/plain": [
       "<Figure size 640x480 with 1 Axes>"
      ]
     },
     "metadata": {},
     "output_type": "display_data"
    }
   ],
   "source": [
    "#===== PR-AUC =====\n",
    "from sklearn.metrics import average_precision_score, precision_recall_curve, auc\n",
    "\n",
    "average_precision = average_precision_score(caster_y_label, caster_y_pred)\n",
    "caster_precisions, caster_recalls, pr_thresholds = precision_recall_curve(caster_y_label, caster_y_pred)\n",
    "\n",
    "plt.step(caster_recalls, caster_precisions, color='b', alpha=0.2,\n",
    "         where='post')\n",
    "plt.fill_between(caster_recalls, caster_precisions, alpha=0.2, color='b')\n",
    "\n",
    "plt.xlabel('Recall')\n",
    "plt.ylabel('Precision')\n",
    "plt.ylim([0.0, 1.05])\n",
    "plt.xlim([0.0, 1.0])\n",
    "plt.title('2-class Precision-Recall curve: AP={0:0.2f}'.format(average_precision))\n",
    "\n",
    "print(\"CASTER AP:\",average_precision)\n",
    "\n",
    "caster_pr_auc = auc(caster_recalls, caster_precisions)\n",
    "print(\"CASTER PR-AUC:\", caster_pr_auc)"
   ]
  },
  {
   "cell_type": "code",
   "execution_count": 151,
   "metadata": {},
   "outputs": [
    {
     "name": "stdout",
     "output_type": "stream",
     "text": [
      "CASTER ROC-AUC: 0.9245751871132365\n",
      "LR ROC-AUC: 0.8366588404945589\n"
     ]
    },
    {
     "data": {
      "image/png": "[encoded data removed]",
      "text/plain": [
       "<Figure size 640x480 with 1 Axes>"
      ]
     },
     "metadata": {},
     "output_type": "display_data"
    }
   ],
   "source": [
    "#===== ROC CURVE =====\n",
    "\n",
    "from sklearn.metrics import roc_curve, auc\n",
    "\n",
    "caster_fpr, caster_tpr, thresholds = roc_curve(caster_y_label, caster_y_pred)\n",
    "caster_roc_auc_score = auc(caster_fpr, caster_tpr)\n",
    "\n",
    "log_reg_fpr, log_reg_tpr, lr_thresholds = roc_curve(log_reg_y_label, log_reg_y_pred)\n",
    "log_reg_roc_auc_score = auc(log_reg_fpr, log_reg_tpr)\n",
    "\n",
    "plt.figure(1)\n",
    "plt.plot([0, 1], [0, 1], 'k--')\n",
    "plt.plot(caster_fpr, caster_tpr, label='CASTER (area = {:.3f})'.format(caster_roc_auc_score))\n",
    "plt.plot(log_reg_fpr, log_reg_tpr, label='LR (area = {:.3f})'.format(log_reg_roc_auc_score))\n",
    "plt.xlabel('FPR')\n",
    "plt.ylabel('TPR')\n",
    "plt.title('ROC')\n",
    "plt.legend(loc='best')\n",
    "print(\"CASTER ROC-AUC:\",caster_roc_auc_score)\n",
    "print(\"LR ROC-AUC:\",log_reg_roc_auc_score)"
   ]
  },
  {
   "cell_type": "code",
   "execution_count": 150,
   "metadata": {},
   "outputs": [
    {
     "name": "stdout",
     "output_type": "stream",
     "text": [
      "Best threshold:  0.41407546401023865\n",
      "Best F1:  0.8556723139609693\n",
      "\n",
      "===== CASTER PERFORMANCE SUMMARY =====\n",
      "ROC-AUC: 0.9245751871132365\n",
      "PR-AUC: 0.9161839105980577\n",
      "F1: 0.8556723139609693\n"
     ]
    }
   ],
   "source": [
    "#===== F1 Calculation =====\n",
    "f1_scores = 2*caster_recalls * caster_precisions / (caster_recalls+caster_precisions)\n",
    "print('Best threshold: ', pr_thresholds[np.argmax(f1_scores)])\n",
    "print('Best F1: ', np.max(f1_scores))\n",
    "print(\"\\n===== CASTER PERFORMANCE SUMMARY =====\")\n",
    "print(\"ROC-AUC:\",caster_roc_auc_score)\n",
    "print(\"PR-AUC:\",caster_pr_auc)\n",
    "print(\"F1:\",np.max(f1_scores))"
   ]
  },
  {
   "cell_type": "markdown",
   "metadata": {
    "id": "8EAWAy_LwHlV"
   },
   "source": [
    "# Results (Continued):\n",
    "\n",
    "---\n",
    "![caster_results_again](img/caster_results.png)\n",
    "\n",
    "Re-iterating what we aim to reproduce:\n",
    "\n",
    "1.  *The CASTER model will provide more accurate DDI predictions when compared with other established models.*\n",
    "2.  *The usage of unlabelled data to generate frequent sub-structure features improves performance in situations with limited labeled datasets.*\n",
    "\n",
    "Once again, the above table shows the claimed performance of CASTER, compared to the other established methods. Despite only training for 128 iterations with `QUICK_TRAIN_DEMO` enabled, our local CASTER performed well relative to the other methods. Our scores were similar but did not exactly match the ones described in the paper; They were slightly higher across the board, including the log reg ablation. Regardless, this still demonstrates both of the hypotheses we aimed to test:\n",
    "\n",
    "1. **Yes**, CASTER does indeed provide more accurate DDI predictions.\n",
    "2. **Yes**, utilizing the frequent chemical sub-structures from an unlabelled dataset does indeed improve performance despite a limited labeled dataset."
   ]
  },
  {
   "cell_type": "markdown",
   "metadata": {
    "id": "qH75TNU71eRH"
   },
   "source": [
    "# Discussion :\n",
    "---\n",
    "\n",
    "* Is the paper reproducible?\n",
    "    * **Yes.** At this point, we’ve demonstrated that we can instantiate, train, and evaluate the model, thus we believe that it is, indeed, reproducible. The only blocker is our lack of compute power. At ~50 sec/iteration for training on a beefier CPU (due to lack of an RTX 4090 / other CUDA GPU), it would be untenable to train both phases on our local machines. Our plan moving forward is to secure the appropriate compute resources from Google Cloud and have our model run within a reasonable timeframe. The authors did mention their hardware specifications but did not mention a timeframe for how long they trained for. We can reduce model size and depth accordingly, if cloud compute resources would still not be enough or we run out of credits.\n",
    "\n",
    "* What was easy?\n",
    "    * One of the aspects of the paper reproduction that we found straightforward was understanding the authors’ intentions in the code. Although the script was not accompanied by copious documentation, the comments in the code, a relatively clear procedural flow in the script, and slowly working through the paper helped us understand what is being accomplished with the provided code.\n",
    "    \n",
    "* What was difficult?\n",
    "    * One aspect that we found difficult was finding the right computing power to handle the scale of computation demanded by the CASTER model. In the subsequent project phase, we plan to migrate our replication efforts to cloud infrastructure thereby availing ourselves of improved computational abilities.\n",
    "\n",
    "* Future Plans:\n",
    "    * In the next phase, we plan on either migrating our notebook to Google Colab (this free version of Colab grants access to Nvidia's T4 GPUs subject to quota restrictions and availability), Google Colab Pro (which grants access to premium V100 or A100 Nvidia GPUs), Google Cloud Platform, or Kaggle (which grants access to two T4 GPUs and one A100 GPU subject to quota restrictions and availability as well). Depending on the model parameter sizes and training time, we will use one or more of these platforms, possibly in parallel. We will also finish our planned ablations, refactor, and add more detailed comments for a more readable and easily understandable notebook."
   ]
  },
  {
   "cell_type": "markdown",
   "metadata": {
    "id": "SHMI2chl9omn"
   },
   "source": [
    "# References\n",
    "\n",
    "1.   Huang, K., Xiao, C., Hoang, T., Glass, L., & Sun, J. (2020, April). Caster: Predicting drug interactions with chemical substructure representation. In Proceedings of the AAAI conference on artificial intelligence (Vol. 34, No. 01, pp. 702-709).\n",
    "\n"
   ]
  }
 ],
 "metadata": {
  "colab": {
   "private_outputs": true,
   "provenance": [
    {
     "file_id": "1oAKqszNlwEZwPa_BjHPqfcoWlikYBpi5",
     "timestamp": 1709153069464
    }
   ],
   "toc_visible": true
  },
  "kernelspec": {
   "display_name": "Python 3",
   "name": "python3"
  },
  "language_info": {
   "codemirror_mode": {
    "name": "ipython",
    "version": 3
   },
   "file_extension": ".py",
   "mimetype": "text/x-python",
   "name": "python",
   "nbconvert_exporter": "python",
   "pygments_lexer": "ipython3",
   "version": "3.10.12"
  }
 },
 "nbformat": 4,
 "nbformat_minor": 0
}
