{
 "cells": [
  {
   "cell_type": "markdown",
   "metadata": {
    "id": "j01aH0PR4Sg-"
   },
   "source": [
    "# Github Link:\n",
    "https://github.com/athenafung1/deep-learning-for-healthcare-final-project\n",
    "\n",
    "# Video Link:\n",
    "**FILL IN**"
   ]
  },
  {
   "cell_type": "markdown",
   "metadata": {
    "id": "MQ0sNuMePBXx"
   },
   "source": [
    "# Introduction:\n",
    "---\n",
    "\n",
    "## Background\n",
    "\n",
    "  Adverse drug-drug interaction (DDI) is the unintended molecular interactions between drugs. It’s a prominent cause of patient morbidities/mortalities, incurring higher costs and risking patient safety. The difficulty of mitigating this issue stems from a couple of factors: \n",
    "\n",
    "  * The molecular structure of drugs are complex, consisting of many units and substructures\n",
    "  * Drug development is a process that requires highly specialized knowledge\n",
    "  * Trials to test drugs and post-market surveillance are long, expensive processes\n",
    "\n",
    "  With respect to applying ML to this topic, there are also a couple of issues:\n",
    "  \n",
    "  * There is a relatively light amount of training data that exists, due to the slow reporting of DDI instances\n",
    "  * Deep learning models have a large number of parameters, making interpretation of the model’s results difficult. One example is that it can be hard to extract the reason for *why* a DDI is occurring.\n",
    "  * DDIs usually result from the reactions of only a few sub-structures of a drug’s entire molecule, but many drug-drug pairs have significant overlaps on larger but irrelevant substructures. This skews the results of DDI prediction.\n",
    "\n",
    "  There is major interest in predicting whether two drugs will interact (especially during the design process) to reduce testing/development costs and to improve patient safety.\n",
    "\n",
    "### The Current State of the Art\n",
    " \n",
    "  Deep learning models have been successfully used to predict DDIs, however such previous models often digest the entire chemical representation, causing learned representations to be potentially biased toward the large, irrelevant substructures and ultimately nullify learned drug similarities and predictions.\n"
   ]
  },
  {
   "cell_type": "markdown",
   "metadata": {},
   "source": [
    "# CASTER\n",
    "---\n",
    "The **ChemicAl SubstrucTurE Representation** framework (CASTER) was introduced as a DDI prediction model, improving on the weaknesses of prior works. CASTER adds a couple of improvements upon previous works. It includes a sequential pattern mining (SPM) method to efficiently decompose a SMILES string into a set of functional drug sub-structures. This accounts for the interaction mechanism between drugs, as interactions depend primarily on the reaction between only a few functional sub-structures. It also includes an autoencoder that works in tandem with a dictionary learning module. This allows the decoding of the latent result, which can help human operators better understand the probability of which sub-structures of a molecule pair are interacting. \n",
    "\n",
    "The authors presented the following hypotheses:\n",
    "1.  The CASTER model will provide more accurate DDI predictions when compared with other established models.\n",
    "2.  The usage of unlabelled data to generate frequent sub-structure features improves performance in situations with limited labeled datasets.\n",
    "3.  CASTER’s sub-structure dictionary can help human operators better comprehend the final result.\n",
    "\n",
    "Based on the paper, it outperformed multiple other models while having a slightly smaller set of parameters, as shown below:\n",
    "\n",
    "![caster_results.png](img/caster_results.png)\n",
    "\n",
    "### Architecture\n",
    "\n",
    "![caster_structure.png](img/caster_block_diagram.png)\n",
    "\n",
    "The model consists of a few notable parts:\n",
    "* **Sequential Pattern Mining (SPM)**\n",
    "    * The SMILEs strings are initially passed through a sequential pattern mining process to find frequently occurring substructures\n",
    "        * The frequent substructures are put into a dictionary (*u[1-k]*)\n",
    "    * SMILEs pairs are encoded into multi-hot vectors of their frequent substructures and combined into a single functional representation (*X*)\n",
    "* **Encoder**\n",
    "    * The functional representation is passed through the encoder to make a latent feature vector (*z*)\n",
    "    * The individual freq. substructures, as one-hot vectors, are also passed through the encoder to make a latent dictionary of substructures (*b[1-k]*)\n",
    "* **Predictor**\n",
    "    * The latent representation is projected onto the latent dictionary to form a set of coefficients (*r[1-k]*)\n",
    "    * The coefficients are passed through a standard fully connected NN.\n",
    "* **Decoder**\n",
    "    * The latent representation is passed through the decoder to reconstruct the functional representation and help comprehend the result\n",
    "\n",
    "CASTER is noteworthy for its progress in considering the holistic structures of molecules, and the fact that it can provide a more understandable, practical output to a human operator using the tool."
   ]
  },
  {
   "cell_type": "markdown",
   "metadata": {
    "id": "uygL9tTPSVHB"
   },
   "source": [
    "## Scope of Reproducibility:\n",
    "\n",
    "We will attempt to test the two following hypotheses with the same hyperparameters defined in the paper/repo:\n",
    "\n",
    "1.  *The CASTER model will provide more accurate DDI predictions when compared with other established models.*\n",
    "2.  *The usage of unlabelled data to generate frequent sub-structure features improves performance in situations with limited labeled datasets.*"
   ]
  },
  {
   "cell_type": "markdown",
   "metadata": {
    "id": "xWAHJ_1CdtaA"
   },
   "source": [
    "# Methodology:\n",
    "---\n",
    "### Setup:\n",
    "This notebook was run with Python >=3.8. The required packages below can be installed using conda, venv, or pip.\n",
    "* numpy\n",
    "* torch\n",
    "* subword_nmt\n",
    "* codecs\n",
    "* pandas\n",
    "* scikit-learn\n",
    "* tqdm\n",
    "* matplotlib\n",
    "\n",
    "### Running the Notebook:\n",
    "Hit `Run All`."
   ]
  },
  {
   "cell_type": "code",
   "execution_count": 69,
   "metadata": {
    "id": "yu61Jp1xrnKk"
   },
   "outputs": [],
   "source": [
    "import numpy as np\n",
    "\n",
    "#Standard torch imports\n",
    "import torch\n",
    "from torch.autograd import Variable\n",
    "import torch.nn.functional as F\n",
    "from torch.utils import data\n",
    "from torch import nn \n",
    "\n",
    "#Used for parsing the misc datasets\n",
    "from subword_nmt.apply_bpe import BPE\n",
    "import codecs\n",
    "\n",
    "#For dataset preparation and evaluation\n",
    "import pandas as pd\n",
    "from sklearn.metrics import roc_auc_score, precision_recall_curve\n",
    "from sklearn.model_selection import KFold\n",
    "\n",
    "#Misc.\n",
    "from tqdm import tqdm\n",
    "import matplotlib.pyplot as plt\n",
    "from time import time\n",
    "torch.manual_seed(2)    # reproducible torch:2 np:3\n",
    "np.random.seed(3)"
   ]
  },
  {
   "cell_type": "code",
   "execution_count": 70,
   "metadata": {},
   "outputs": [],
   "source": [
    "QUICK_TRAIN_DEMO = True\n",
    "\n",
    "#Defines configuration for the data/model/training.\n",
    "CONFIG = {}\n",
    "\n",
    "#Learning rate\n",
    "CONFIG['LR'] = 1e-3\n",
    "CONFIG['batch_size'] = 128\n",
    "CONFIG['batch_first'] = True\n",
    "\n",
    "#Number of pretrain and training epochs\n",
    "CONFIG['pretrain_epochs'] = 3\n",
    "CONFIG['train_epochs'] = 3\n",
    "\n",
    "#Self defined coefficient to multiply with the reconstruction loss.\n",
    "CONFIG['reconstruction_coefficient'] = 1e-1  # 1e-2\n",
    "#Defines a stopping point for pre-training the encoder/decoder\n",
    "CONFIG['recon_threshold'] = 0.0005 \n",
    "CONFIG['projection_coefficient'] = 1e-1  # 1e-2\n",
    "\n",
    "#The width of the drug-drug pair's multi-hot functional representation\n",
    "CONFIG['input_dim'] = 1722\n",
    "CONFIG['num_class'] = 2\n",
    "\n",
    "#===== Encoder/Decoder Parameters =====\n",
    "CONFIG['encode_fc1_dim'] = 500  # encoder fc1\n",
    "CONFIG['encode_fc2_dim'] = 50  # encoder fc2\n",
    "CONFIG['decode_fc1_dim'] = 500  # decoder fc1\n",
    "CONFIG['decode_fc2_dim'] = CONFIG['input_dim']  # decoder reconstruction\n",
    "\n",
    "#===== Deep Predictor Parameters =====\n",
    "CONFIG['magnify_factor'] = 100\n",
    "CONFIG['predict_dim'] = 512 # for every layer\n",
    "CONFIG['predict_out_dim'] = 1 # predictor out\n",
    "\n",
    "CONFIG['lambda1'] = 1e-2  # L1 regularization coefficient\n",
    "CONFIG['lambda2'] = 1e-1  # L2 regulatization coefficient\n",
    "CONFIG['lambda3'] = 1e-5  # L2 regulatization coefficient\n"
   ]
  },
  {
   "cell_type": "markdown",
   "metadata": {
    "id": "2NbPHUTMbkD3"
   },
   "source": [
    "##  Data:\n",
    "The data that CASTER ingests consists of 3 datasets, already integrated in the repo:\n",
    "  * unsup_dataset.csv = A dataset of randomly combined pairs of SMILEs strings drawn from FooDB (a db of food constituent molecules) and all drugs, drawn from DrugBank\n",
    "    * This unsupervised dataset is used to help find frequent SMILEs substructures and train the encoder/decoder\n",
    "  * BIOSNAP/sup*.csv = A dataset from Stanford's Biomedical Network Dataset indicating pairs of SMILEs strings and presence of DDI\n",
    "    * These are the supervised datasets for training the predictor\n",
    "  * subword_units_map.csv = The 1722 frequent patterns extracted from the unsupervised strings, already produced by the sequential pattern mining (SPM) routine\n",
    "\n",
    "The 2 cells below define and load the data."
   ]
  },
  {
   "cell_type": "code",
   "execution_count": 71,
   "metadata": {},
   "outputs": [],
   "source": [
    "#===== DATASET DEFINITIONS =====\n",
    "vocab_path = \"data/codes.txt\"\n",
    "bpe_codes_fin = codecs.open(vocab_path)\n",
    "bpe = BPE(bpe_codes_fin, merges=-1, separator='')\n",
    "\n",
    "#Get frequent substructures\n",
    "vocab_map = pd.read_csv('data/subword_units_map.csv')\n",
    "idx2word = vocab_map['index'].values\n",
    "words2idx = dict(zip(idx2word, range(0, len(idx2word))))\n",
    "\n",
    "#===== Helper functions =====\n",
    "#Map 2 smiles strings into multi-hot representations of their substructures.\n",
    "def smiles_2_index(s1, s2):\n",
    "    t1 = bpe.process_line(s1).split() #split\n",
    "    t2 = bpe.process_line(s2).split() #split\n",
    "    i1 = [words2idx[i] for i in t1] # index\n",
    "    i2 = [words2idx[i] for i in t2] # index\n",
    "    return i1, i2\n",
    "\n",
    "#Combines both multi-hot representations into a single multi-hot (the functional representation)\n",
    "def index_2_multi_hot(i1, i2):\n",
    "    v_d = np.zeros(len(idx2word),dtype=np.float32)\n",
    "    v_d[i1] = 1\n",
    "    v_d[i2] = 1\n",
    "    return v_d\n",
    "\n",
    "#Combination of above: Takes two smiles strings and turns them into the multi-hot functional representation.\n",
    "def smiles_2_vector(s1, s2):\n",
    "    i1, i2 = smiles_2_index(s1, s2)\n",
    "    v_d = index_2_multi_hot(i1, i2)\n",
    "    return v_d\n",
    "\n",
    "#===== Datasets =====\n",
    "class sup_data(data.Dataset):\n",
    "\n",
    "    def __init__(self, list_IDs, labels, df_ddi):\n",
    "        'Initialization'\n",
    "        self.labels = labels\n",
    "        self.list_IDs = list_IDs\n",
    "        self.df = df_ddi\n",
    "        \n",
    "    def __len__(self):\n",
    "        'Denotes the total number of samples'\n",
    "        return len(self.list_IDs)\n",
    "\n",
    "    def __getitem__(self, index):\n",
    "        'Generates one sample of data'\n",
    "        # Select sample\n",
    "        index = self.list_IDs[index]\n",
    "        # Load data from sample and get multi-hot\n",
    "        s1 = self.df.iloc[index].Drug1_SMILES\n",
    "        s2 = self.df.iloc[index].Drug2_SMILES\n",
    "        v_d = smiles_2_vector(s1, s2)\n",
    "        #Get label\n",
    "        y = self.labels[index]\n",
    "        #Return combined multi-hot and its label.\n",
    "        return v_d, y\n",
    "    \n",
    "class unsup_data(data.Dataset):\n",
    "\n",
    "    def __init__(self, list_IDs, df):\n",
    "        'Initialization'\n",
    "        self.list_IDs = list_IDs\n",
    "        self.df = df\n",
    "\n",
    "    def __len__(self):\n",
    "        'Denotes the total number of samples'\n",
    "        return len(self.list_IDs)\n",
    "\n",
    "    def __getitem__(self, index):\n",
    "        'Generates one sample of data'\n",
    "        # Load data and get label\n",
    "        index = self.list_IDs[index]\n",
    "        s1 = self.df.iloc[index].input1_SMILES\n",
    "        s2 = self.df.iloc[index].input2_SMILES\n",
    "        v_d = smiles_2_vector(s1, s2)\n",
    "        return v_d"
   ]
  },
  {
   "cell_type": "code",
   "execution_count": 72,
   "metadata": {
    "id": "BZScZNbROw-N"
   },
   "outputs": [
    {
     "name": "stdout",
     "output_type": "stream",
     "text": [
      "==============================\n",
      "TOTAL UNSUPERVISED SET\n",
      "==============================\n",
      "# of samples: 441853\n",
      "# of drug-food pairs: 220926\n",
      "# of drug-drug pairs: 220927\n",
      "\n",
      "\n",
      "==============================\n",
      "BIOSNAP TRAIN/VAL SET\n",
      "==============================\n",
      "# of samples: 66432\n",
      "# of DDIs: 33243\n"
     ]
    }
   ],
   "source": [
    "#Read datasets\n",
    "df_unsup = pd.read_csv('data/unsup_dataset.csv', \n",
    "                       names = ['idx', 'input1_SMILES', 'input2_SMILES', 'type']).drop(0)# pairs dataframe input1_smiles, input2_smiles\n",
    "df_ddi = pd.read_csv('data/BIOSNAP/sup_train_val.csv')  # ddi dataframe drug1_smiles, drug2_smiles\n",
    "df_ddi.label = df_ddi.label.astype('float32')\n",
    "\n",
    "#Print some basic info about the datasets \n",
    "print(\"=\"*30)\n",
    "print(\"TOTAL UNSUPERVISED SET\")\n",
    "print(\"=\"*30)\n",
    "print(\"# of samples:\",len(df_unsup))\n",
    "print(\"# of drug-food pairs:\",sum(df_unsup.type == \"df_pair\"))\n",
    "print(\"# of drug-drug pairs:\",sum(df_unsup.type == \"dd_pair\"))\n",
    "print(\"\\n\")\n",
    "print(\"=\"*30)\n",
    "print(\"BIOSNAP TRAIN/VAL SET\")\n",
    "print(\"=\"*30)\n",
    "print(\"# of samples:\",len(df_ddi))\n",
    "print(\"# of DDIs:\",sum(df_ddi.label == 1.0))\n",
    "\n",
    "#K-fold cross-validation.\n",
    "kf = KFold(n_splits = 8, shuffle = True, random_state = 3)\n",
    "\n",
    "#Get the 1st fold index\n",
    "fold_index = next(kf.split(df_ddi), None)\n",
    "\n",
    "ids_unsup = df_unsup.index.values\n",
    "partition_sup = {'train': fold_index[0], 'val': fold_index[1]}\n",
    "labels_sup = df_ddi.label.values\n",
    "\n",
    "LOADER_PARAMS = {\n",
    "    'batch_size': CONFIG[\"batch_size\"],\n",
    "    'shuffle': True,\n",
    "    'num_workers': 0\n",
    "    }\n",
    "\n",
    "unsup_set = unsup_data(ids_unsup, df_unsup)\n",
    "unsup_generator = data.DataLoader(unsup_set, **LOADER_PARAMS)\n",
    "\n",
    "training_set = sup_data(partition_sup['train'], labels_sup, df_ddi)\n",
    "training_generator_sup = data.DataLoader(training_set, **LOADER_PARAMS)\n",
    "\n",
    "validation_set = sup_data(partition_sup['val'], labels_sup, df_ddi)\n",
    "validation_generator_sup = data.DataLoader(validation_set, **LOADER_PARAMS)"
   ]
  },
  {
   "cell_type": "markdown",
   "metadata": {
    "id": "3muyDPFPbozY"
   },
   "source": [
    "## Model Definition:\n",
    "\n",
    "Based on CASTER's github, the model was defined with the following parameters:\n",
    "* Encoder/Decoder: 2 Layer 500x50 NNs with ReLU activations\n",
    "* Predictor: 7 Layer 1024 wide NNs with ReLU activations\n",
    "* Optimizer: Adam\n",
    "\n",
    "## **TODO: Expand**\n",
    "\n",
    "The cell below defines and instantiates the model.\n"
   ]
  },
  {
   "cell_type": "code",
   "execution_count": 73,
   "metadata": {
    "id": "gBdVZoTvsSFV"
   },
   "outputs": [],
   "source": [
    "class CASTER(nn.Sequential):\n",
    "\n",
    "    def __init__(self, **config):\n",
    "        super(CASTER, self).__init__()\n",
    "        self.input_dim = config['input_dim']\n",
    "        self.num_class = config['num_class']\n",
    "        self.lambda3 = config['lambda3']        \n",
    "        self.encode_fc1_dim = config['encode_fc1_dim']\n",
    "        self.encode_fc2_dim = config['encode_fc2_dim']\n",
    "        self.decode_fc1_dim = config['decode_fc1_dim']\n",
    "        self.decode_fc2_dim = config['decode_fc2_dim']\n",
    "        self.predict_dim = config['predict_dim']\n",
    "        self.predict_out_dim = config['predict_out_dim']\n",
    "        self.mag_factor = config['magnify_factor']        \n",
    "\n",
    "        # encoder: two layer NN\n",
    "        self.encoder = nn.Sequential(\n",
    "            nn.Linear(self.input_dim, self.encode_fc1_dim),\n",
    "            nn.ReLU(True),\n",
    "            nn.Linear(self.encode_fc1_dim, self.encode_fc2_dim)\n",
    "        )\n",
    "        \n",
    "        # decoder: two layer NN\n",
    "        self.decoder = nn.Sequential(\n",
    "            nn.Linear(self.encode_fc2_dim, self.decode_fc1_dim),\n",
    "            nn.ReLU(True),\n",
    "            nn.Linear(self.decode_fc1_dim, self.decode_fc2_dim)\n",
    "        )\n",
    "\n",
    "        # predictor: eight layer NN\n",
    "        self.predictor = nn.Sequential(\n",
    "            # layer 1\n",
    "            nn.Linear(self.input_dim, self.predict_dim),\n",
    "            nn.ReLU(True),\n",
    "            # layer 2\n",
    "            nn.BatchNorm1d(self.predict_dim),\n",
    "            nn.Linear(self.predict_dim, self.predict_dim),\n",
    "            nn.ReLU(True),\n",
    "            # layer 3\n",
    "            nn.BatchNorm1d(self.predict_dim),\n",
    "            nn.Linear(self.predict_dim, self.predict_dim),\n",
    "            nn.ReLU(True),\n",
    "            # layer 4\n",
    "            nn.BatchNorm1d(self.predict_dim),\n",
    "            nn.Linear(self.predict_dim, self.predict_dim),\n",
    "            nn.ReLU(True),\n",
    "            # layer 5\n",
    "            nn.BatchNorm1d(self.predict_dim),\n",
    "            nn.Linear(self.predict_dim, self.predict_dim),\n",
    "            nn.ReLU(True),\n",
    "            # layer 6\n",
    "            nn.BatchNorm1d(self.predict_dim),\n",
    "            nn.Linear(self.predict_dim, 64),\n",
    "            nn.ReLU(True),\n",
    "            # output layer\n",
    "            nn.Linear(64, self.predict_out_dim)\n",
    "        )\n",
    "\n",
    "    def dictionary_encoder(self, z, latent_dict):\n",
    "        '''\n",
    "        :param z: batch_size x encode_fc2_dim\n",
    "        :param latent_dict: encode_fc2_dim x eta\n",
    "        :return: sparse code r: batch_size x eta\n",
    "        '''       \n",
    "        \n",
    "        DTD = torch.matmul(latent_dict, latent_dict.transpose(2, 1))  # D is Dictionary;  D^T D encode_dim x eta\n",
    "        temp = DTD + self.lambda3 * torch.eye(self.input_dim)\n",
    "        DTD_inv = torch.inverse(temp)  # (D^T D + \\lambda2 I )^{-1} D^T D, eta x eta\n",
    "        DTD_inv_DT = torch.matmul(DTD_inv, latent_dict)  \n",
    "\n",
    "        r = z[:,None,:].matmul(DTD_inv_DT.transpose(2, 1)).squeeze(1) # batch_size x eta    \n",
    "        return r\n",
    "\n",
    "    def forward(self, x_vec):\n",
    "        '''\n",
    "        :param x_vec: batch_size x width of multi-hot functional\n",
    "        :return: recon, r_vec, score\n",
    "        '''\n",
    "        _, x_width = x_vec.shape\n",
    "        \n",
    "        # Encode functional representation into latent representation \n",
    "        z_vec = self.encoder(x_vec)\n",
    "        \n",
    "        # Create latent dictionary using encoder\n",
    "        latent_dict = self.encoder(torch.eye(x_width))\n",
    "        latent_dict = latent_dict.mul(x_vec[:,:,None]) \n",
    "        \n",
    "        # Use dictionary to get coeffs/r_vec\n",
    "        r_vec = self.dictionary_encoder(z_vec, latent_dict)\n",
    "\n",
    "        # Pass coeffs through the deep predictor\n",
    "        score = self.predictor(self.mag_factor * r_vec)\n",
    "\n",
    "        # Decode latent representation\n",
    "        recon_temp = self.decoder(z_vec)\n",
    "        reconstructed = torch.sigmoid(recon_temp)\n",
    "        \n",
    "        # print(reconstructed, r_vec, score, latent_dict, z_vec)\n",
    "        return reconstructed, r_vec, score, latent_dict, z_vec\n",
    "\n",
    "#Instantiated model\n",
    "caster_model = CASTER(**CONFIG)"
   ]
  },
  {
   "cell_type": "markdown",
   "metadata": {},
   "source": [
    "## Training:\n",
    "Training proceeds in two phases. \n",
    "1. **Pre-training:**\n",
    "    * This phase is focused on getting the autoencoder to find the most efficient latent representation for the functional representation. Note that the classification loss is excluded in the phase, so the autoencoder gets a \"head start\".\n",
    "2. **Training:**\n",
    "    * This phase trains the predictor with the linear coefficients (combination of latent dictionary w/ latent representation). Classification loss is added back into this phase.\n",
    "\n",
    "### Parameters:\n",
    "According to the paper, the \n",
    "# FILL OUT\n",
    "\n",
    "### Notes on Hardware and Runtime:\n",
    "The workstation this notebook was run on contains a Ryzen 7 5700x CPU and 48 GB of RAM. We did not utilize any CUDA enabled GPU.\n",
    "\n",
    "On Windows, the runtimes were:\n",
    "* Pre-Training & Training : ~50 sec / iteration\n",
    "* Evaluation : ~12 sec / iteration, ~70 sec total\n",
    "\n",
    "However, using WSL (Ubuntu 22.04), runtimes were:\n",
    "* Pre-Training & Training : ~13.5 sec / iteration\n",
    "* Evaluation : ~6 sec / iteration, ~70 sec total\n",
    "\n",
    "Performance profiling the script revealed that the slowest operation was the matrix inverse operation in the dictionary encoder.\n",
    "\n",
    "In total, it is well below the 8 min runtime limit. Depending on available compute power, your expected runtime may increase or decrease. For the sake of convenience, a `QUICK_TRAIN_DEMO` parameter was added into the `CONFIG` cell to allow for a quick demo, as its name implies."
   ]
  },
  {
   "cell_type": "code",
   "execution_count": 74,
   "metadata": {},
   "outputs": [],
   "source": [
    "#Misc loss histories\n",
    "loss_r_history = []\n",
    "loss_p_history = []\n",
    "loss_c_history = []\n",
    "loss_history = []\n",
    "\n",
    "#How many epochs to devote to training the encoder/decoder\n",
    "PRETRAIN_EPOCHS = CONFIG['pretrain_epochs']\n",
    "#Defines an early stopping point for pre-training the encoder/decoder\n",
    "RECON_THRESH = CONFIG['recon_threshold']\n",
    "#Self defined coefficient to multiply with the reconstruction loss.\n",
    "RECON_LOSS_COEFF = CONFIG['reconstruction_coefficient']\n",
    "\n",
    "TRAIN_EPOCHS = CONFIG[\"train_epochs\"]\n",
    "PROJ_COEFF = CONFIG['projection_coefficient']\n",
    "LAM1 = CONFIG['lambda1']\n",
    "LAM2 = CONFIG['lambda2']\n",
    "\n",
    "LR = CONFIG['LR']\n",
    "BATCH_SIZE = CONFIG[\"batch_size\"]\n",
    "opt = torch.optim.Adam(caster_model.parameters(), lr = LR)"
   ]
  },
  {
   "cell_type": "code",
   "execution_count": 75,
   "metadata": {},
   "outputs": [
    {
     "name": "stdout",
     "output_type": "stream",
     "text": [
      "QUICK DEMO ACTIVE\n"
     ]
    },
    {
     "name": "stderr",
     "output_type": "stream",
     "text": [
      "1it [00:13, 13.21s/it]"
     ]
    },
    {
     "name": "stdout",
     "output_type": "stream",
     "text": [
      "Pre-Training at Epoch 0 iteration 0, total loss is 4.105, proj loss is 4.036, recon loss is 0.069\n"
     ]
    },
    {
     "name": "stderr",
     "output_type": "stream",
     "text": [
      "2it [00:26, 13.30s/it]"
     ]
    },
    {
     "name": "stdout",
     "output_type": "stream",
     "text": [
      "Pre-Training at Epoch 0 iteration 1, total loss is 3.040, proj loss is 2.971, recon loss is 0.069\n"
     ]
    },
    {
     "name": "stderr",
     "output_type": "stream",
     "text": [
      "3it [00:39, 13.27s/it]"
     ]
    },
    {
     "name": "stdout",
     "output_type": "stream",
     "text": [
      "Pre-Training at Epoch 0 iteration 2, total loss is 2.703, proj loss is 2.635, recon loss is 0.068\n"
     ]
    },
    {
     "name": "stderr",
     "output_type": "stream",
     "text": [
      "4it [00:52, 13.21s/it]"
     ]
    },
    {
     "name": "stdout",
     "output_type": "stream",
     "text": [
      "Pre-Training at Epoch 0 iteration 3, total loss is 2.325, proj loss is 2.258, recon loss is 0.067\n"
     ]
    },
    {
     "name": "stderr",
     "output_type": "stream",
     "text": [
      "5it [01:06, 13.23s/it]"
     ]
    },
    {
     "name": "stdout",
     "output_type": "stream",
     "text": [
      "Pre-Training at Epoch 0 iteration 4, total loss is 2.309, proj loss is 2.243, recon loss is 0.066\n"
     ]
    },
    {
     "name": "stderr",
     "output_type": "stream",
     "text": [
      "6it [01:19, 13.20s/it]"
     ]
    },
    {
     "name": "stdout",
     "output_type": "stream",
     "text": [
      "Pre-Training at Epoch 0 iteration 5, total loss is 2.232, proj loss is 2.167, recon loss is 0.065\n"
     ]
    },
    {
     "name": "stderr",
     "output_type": "stream",
     "text": [
      "7it [01:32, 13.29s/it]"
     ]
    },
    {
     "name": "stdout",
     "output_type": "stream",
     "text": [
      "Pre-Training at Epoch 0 iteration 6, total loss is 2.200, proj loss is 2.136, recon loss is 0.064\n"
     ]
    },
    {
     "name": "stderr",
     "output_type": "stream",
     "text": [
      "8it [01:46, 13.35s/it]"
     ]
    },
    {
     "name": "stdout",
     "output_type": "stream",
     "text": [
      "Pre-Training at Epoch 0 iteration 7, total loss is 2.075, proj loss is 2.012, recon loss is 0.063\n"
     ]
    },
    {
     "name": "stderr",
     "output_type": "stream",
     "text": [
      "9it [01:59, 13.40s/it]"
     ]
    },
    {
     "name": "stdout",
     "output_type": "stream",
     "text": [
      "Pre-Training at Epoch 0 iteration 8, total loss is 1.832, proj loss is 1.770, recon loss is 0.062\n"
     ]
    },
    {
     "name": "stderr",
     "output_type": "stream",
     "text": [
      "10it [02:13, 13.43s/it]"
     ]
    },
    {
     "name": "stdout",
     "output_type": "stream",
     "text": [
      "Pre-Training at Epoch 0 iteration 9, total loss is 1.706, proj loss is 1.645, recon loss is 0.061\n"
     ]
    },
    {
     "name": "stderr",
     "output_type": "stream",
     "text": [
      "11it [02:26, 13.49s/it]"
     ]
    },
    {
     "name": "stdout",
     "output_type": "stream",
     "text": [
      "Pre-Training at Epoch 0 iteration 10, total loss is 1.655, proj loss is 1.595, recon loss is 0.060\n"
     ]
    },
    {
     "name": "stderr",
     "output_type": "stream",
     "text": [
      "12it [02:40, 13.59s/it]"
     ]
    },
    {
     "name": "stdout",
     "output_type": "stream",
     "text": [
      "Pre-Training at Epoch 0 iteration 11, total loss is 1.540, proj loss is 1.481, recon loss is 0.059\n"
     ]
    },
    {
     "name": "stderr",
     "output_type": "stream",
     "text": [
      "13it [02:54, 13.59s/it]"
     ]
    },
    {
     "name": "stdout",
     "output_type": "stream",
     "text": [
      "Pre-Training at Epoch 0 iteration 12, total loss is 1.475, proj loss is 1.417, recon loss is 0.058\n"
     ]
    },
    {
     "name": "stderr",
     "output_type": "stream",
     "text": [
      "14it [03:08, 13.63s/it]"
     ]
    },
    {
     "name": "stdout",
     "output_type": "stream",
     "text": [
      "Pre-Training at Epoch 0 iteration 13, total loss is 1.440, proj loss is 1.382, recon loss is 0.057\n"
     ]
    },
    {
     "name": "stderr",
     "output_type": "stream",
     "text": [
      "15it [03:21, 13.71s/it]"
     ]
    },
    {
     "name": "stdout",
     "output_type": "stream",
     "text": [
      "Pre-Training at Epoch 0 iteration 14, total loss is 1.340, proj loss is 1.283, recon loss is 0.056\n"
     ]
    },
    {
     "name": "stderr",
     "output_type": "stream",
     "text": [
      "16it [03:35, 13.67s/it]"
     ]
    },
    {
     "name": "stdout",
     "output_type": "stream",
     "text": [
      "Pre-Training at Epoch 0 iteration 15, total loss is 1.324, proj loss is 1.268, recon loss is 0.055\n"
     ]
    }
   ],
   "source": [
    "#===== PRE-TRAINING =====\n",
    "len_unsup = len(unsup_generator)\n",
    "\n",
    "if QUICK_TRAIN_DEMO:\n",
    "    print(\"QUICK DEMO ACTIVE\")\n",
    "\n",
    "for pre_epo in range(PRETRAIN_EPOCHS):\n",
    "\n",
    "    #Use unsupervised datasat to train encoder/decoder\n",
    "    for iter_idx, v_D in tqdm(enumerate(unsup_generator)):\n",
    "        v_D = v_D.float()\n",
    "\n",
    "        recon, code, score, Z_f, z_D = caster_model(v_D)\n",
    "        \n",
    "        loss_r = RECON_LOSS_COEFF * F.binary_cross_entropy(recon, v_D)\n",
    "        \n",
    "        loss_p = PROJ_COEFF * (torch.norm(z_D - torch.matmul(code, Z_f)) + \\\n",
    "                LAM1 * torch.sum(torch.abs(code)) / BATCH_SIZE + \\\n",
    "                LAM2 * torch.norm(Z_f, p='fro') / BATCH_SIZE)\n",
    "        \n",
    "        total_loss = loss_r + loss_p\n",
    "        \n",
    "        loss_r_history.append(loss_r.detach())\n",
    "        loss_p_history.append(loss_p.detach())\n",
    "        loss_history.append(total_loss.detach())\n",
    "\n",
    "        opt.zero_grad()\n",
    "        total_loss.backward()\n",
    "        opt.step()\n",
    "        \n",
    "        # if(i % 10 == 0):\n",
    "        print('Pre-Training at Epoch ' + str(pre_epo) + \\\n",
    "                ' iteration ' + str(iter_idx) + \\\n",
    "                ', total loss is ' + '%.3f' % (total_loss.cpu().detach().numpy()) + \\\n",
    "                ', proj loss is ' + '%.3f' % (loss_p.cpu().detach().numpy()) + \\\n",
    "                ', recon loss is ' + '%.3f' % (loss_r.cpu().detach().numpy()))\n",
    "        \n",
    "        # save pretraining checkpoint for reuse\n",
    "        if iter_idx == int(len_unsup/4):\n",
    "            torch.save(caster_model, 'model_pretrain_checkpoint_1.pt')\n",
    "        if iter_idx == int(len_unsup/2):\n",
    "            torch.save(caster_model, 'model_pretrain_checkpoint_1.pt')\n",
    "\n",
    "        #If the reconstruction loss is smaller than the specified threshold, finish the pre-training and go train.\n",
    "        if QUICK_TRAIN_DEMO and iter_idx >= 64 or loss_r < RECON_THRESH:\n",
    "            break\n",
    "        \n",
    "    if QUICK_TRAIN_DEMO:\n",
    "        break\n",
    "print(\"Done with pre-training.\")"
   ]
  },
  {
   "cell_type": "code",
   "execution_count": null,
   "metadata": {},
   "outputs": [
    {
     "name": "stdout",
     "output_type": "stream",
     "text": [
      "QUICK DEMO ACTIVE\n"
     ]
    },
    {
     "name": "stderr",
     "output_type": "stream",
     "text": [
      "1it [00:13, 13.62s/it]"
     ]
    },
    {
     "name": "stdout",
     "output_type": "stream",
     "text": [
      "Training at Epoch 0 iteration 0, total loss is 1.947, proj loss is 1.201, recon loss is 0.053, classification loss is 0.693\n"
     ]
    },
    {
     "name": "stderr",
     "output_type": "stream",
     "text": [
      "2it [00:27, 13.63s/it]"
     ]
    },
    {
     "name": "stdout",
     "output_type": "stream",
     "text": [
      "Training at Epoch 0 iteration 1, total loss is 1.881, proj loss is 1.141, recon loss is 0.052, classification loss is 0.687\n"
     ]
    },
    {
     "name": "stderr",
     "output_type": "stream",
     "text": [
      "3it [00:41, 13.77s/it]"
     ]
    },
    {
     "name": "stdout",
     "output_type": "stream",
     "text": [
      "Training at Epoch 0 iteration 2, total loss is 1.825, proj loss is 1.119, recon loss is 0.051, classification loss is 0.655\n"
     ]
    },
    {
     "name": "stderr",
     "output_type": "stream",
     "text": [
      "4it [00:55, 13.82s/it]"
     ]
    },
    {
     "name": "stdout",
     "output_type": "stream",
     "text": [
      "Training at Epoch 0 iteration 3, total loss is 1.770, proj loss is 1.032, recon loss is 0.050, classification loss is 0.688\n"
     ]
    },
    {
     "name": "stderr",
     "output_type": "stream",
     "text": [
      "5it [01:08, 13.81s/it]"
     ]
    },
    {
     "name": "stdout",
     "output_type": "stream",
     "text": [
      "Training at Epoch 0 iteration 4, total loss is 1.758, proj loss is 1.019, recon loss is 0.049, classification loss is 0.690\n"
     ]
    },
    {
     "name": "stderr",
     "output_type": "stream",
     "text": [
      "6it [01:22, 13.82s/it]"
     ]
    },
    {
     "name": "stdout",
     "output_type": "stream",
     "text": [
      "Training at Epoch 0 iteration 5, total loss is 1.703, proj loss is 0.988, recon loss is 0.048, classification loss is 0.667\n"
     ]
    },
    {
     "name": "stderr",
     "output_type": "stream",
     "text": [
      "7it [01:36, 13.75s/it]"
     ]
    },
    {
     "name": "stdout",
     "output_type": "stream",
     "text": [
      "Training at Epoch 0 iteration 6, total loss is 1.629, proj loss is 0.930, recon loss is 0.047, classification loss is 0.652\n"
     ]
    },
    {
     "name": "stderr",
     "output_type": "stream",
     "text": [
      "8it [01:50, 13.81s/it]"
     ]
    },
    {
     "name": "stdout",
     "output_type": "stream",
     "text": [
      "Training at Epoch 0 iteration 7, total loss is 1.689, proj loss is 0.940, recon loss is 0.046, classification loss is 0.703\n"
     ]
    },
    {
     "name": "stderr",
     "output_type": "stream",
     "text": [
      "9it [02:04, 13.80s/it]"
     ]
    },
    {
     "name": "stdout",
     "output_type": "stream",
     "text": [
      "Training at Epoch 0 iteration 8, total loss is 1.607, proj loss is 0.891, recon loss is 0.045, classification loss is 0.671\n"
     ]
    },
    {
     "name": "stderr",
     "output_type": "stream",
     "text": [
      "10it [02:17, 13.73s/it]"
     ]
    },
    {
     "name": "stdout",
     "output_type": "stream",
     "text": [
      "Training at Epoch 0 iteration 9, total loss is 1.618, proj loss is 0.873, recon loss is 0.044, classification loss is 0.701\n"
     ]
    },
    {
     "name": "stderr",
     "output_type": "stream",
     "text": [
      "11it [02:31, 13.73s/it]"
     ]
    },
    {
     "name": "stdout",
     "output_type": "stream",
     "text": [
      "Training at Epoch 0 iteration 10, total loss is 1.518, proj loss is 0.849, recon loss is 0.042, classification loss is 0.627\n"
     ]
    },
    {
     "name": "stderr",
     "output_type": "stream",
     "text": [
      "12it [02:45, 13.83s/it]"
     ]
    },
    {
     "name": "stdout",
     "output_type": "stream",
     "text": [
      "Training at Epoch 0 iteration 11, total loss is 1.572, proj loss is 0.849, recon loss is 0.041, classification loss is 0.682\n"
     ]
    },
    {
     "name": "stderr",
     "output_type": "stream",
     "text": [
      "13it [02:59, 13.86s/it]"
     ]
    },
    {
     "name": "stdout",
     "output_type": "stream",
     "text": [
      "Training at Epoch 0 iteration 12, total loss is 1.535, proj loss is 0.863, recon loss is 0.040, classification loss is 0.632\n"
     ]
    },
    {
     "name": "stderr",
     "output_type": "stream",
     "text": [
      "14it [03:13, 13.83s/it]"
     ]
    },
    {
     "name": "stdout",
     "output_type": "stream",
     "text": [
      "Training at Epoch 0 iteration 13, total loss is 1.481, proj loss is 0.820, recon loss is 0.039, classification loss is 0.621\n"
     ]
    },
    {
     "name": "stderr",
     "output_type": "stream",
     "text": [
      "15it [03:26, 13.83s/it]"
     ]
    },
    {
     "name": "stdout",
     "output_type": "stream",
     "text": [
      "Training at Epoch 0 iteration 14, total loss is 1.497, proj loss is 0.825, recon loss is 0.038, classification loss is 0.634\n"
     ]
    },
    {
     "name": "stderr",
     "output_type": "stream",
     "text": [
      "16it [03:40, 13.75s/it]"
     ]
    },
    {
     "name": "stdout",
     "output_type": "stream",
     "text": [
      "Training at Epoch 0 iteration 15, total loss is 1.503, proj loss is 0.822, recon loss is 0.037, classification loss is 0.643\n"
     ]
    },
    {
     "name": "stderr",
     "output_type": "stream",
     "text": [
      "16it [03:54, 14.64s/it]"
     ]
    },
    {
     "name": "stdout",
     "output_type": "stream",
     "text": [
      "Training at Epoch 0 iteration 16, total loss is 1.414, proj loss is 0.792, recon loss is 0.036, classification loss is 0.585\n",
      "Done with training.\n"
     ]
    },
    {
     "name": "stderr",
     "output_type": "stream",
     "text": [
      "\n"
     ]
    }
   ],
   "source": [
    "#===== TRAINING =====\n",
    "\n",
    "sigmoid = torch.nn.Sigmoid()\n",
    "bce_loss = torch.nn.BCELoss()\n",
    "\n",
    "if QUICK_TRAIN_DEMO:\n",
    "    print(\"QUICK DEMO ACTIVE\")\n",
    "\n",
    "for tr_epo in range(TRAIN_EPOCHS):\n",
    "    for iter_idx, (v_D, label) in tqdm(enumerate(training_generator_sup)):\n",
    "        v_D = v_D.float()\n",
    "        recon, code, score, Z_f, z_D = caster_model(v_D)\n",
    "        label = Variable(torch.from_numpy(np.array(label)).long())\n",
    "        n = torch.squeeze(sigmoid(score))\n",
    "        \n",
    "        loss_c = bce_loss(n, label.float())\n",
    "        loss_r = RECON_LOSS_COEFF * F.binary_cross_entropy(recon, v_D)\n",
    "        \n",
    "        loss_p =    PROJ_COEFF * (torch.norm(z_D - torch.matmul(code, Z_f)) + \\\n",
    "                    LAM1 * torch.sum(torch.abs(code)) / BATCH_SIZE + \\\n",
    "                    LAM2 * torch.norm(Z_f, p='fro') / BATCH_SIZE)\n",
    "        \n",
    "        total_loss = loss_c + loss_r + loss_p\n",
    "        loss_r_history.append(loss_r.detach())\n",
    "        loss_p_history.append(loss_p.detach())\n",
    "        loss_c_history.append(loss_c.detach())\n",
    "        loss_history.append(total_loss.detach())\n",
    "\n",
    "        opt.zero_grad()\n",
    "        total_loss.backward()\n",
    "        opt.step()\n",
    "                \n",
    "        print(  'Training at Epoch ' + str(tr_epo) + \\\n",
    "                ' iteration ' + str(iter_idx) + \\\n",
    "                ', total loss is ' + '%.3f' % (total_loss.detach().numpy()) + \\\n",
    "                ', proj loss is ' + '%.3f' % (loss_p.detach().numpy()) + \\\n",
    "                ', recon loss is ' + '%.3f' % (loss_r.detach().numpy()) + \\\n",
    "                ', classification loss is ' + '%.3f' % (loss_c.detach().numpy()))\n",
    "        \n",
    "        if QUICK_TRAIN_DEMO and iter_idx >= 64:\n",
    "            break\n",
    "    if QUICK_TRAIN_DEMO:\n",
    "        break\n",
    "    \n",
    "#Save the final model.\n",
    "torch.save(caster_model, 'model_nn_trained.pt')\n",
    "print(\"Done with training.\")"
   ]
  },
  {
   "cell_type": "markdown",
   "metadata": {},
   "source": [
    "## Ablation Model: Logistic Regression\n",
    "\n",
    "One of the ablations we proposed (and one that was also suggested in the paper) was using logistic regression (LR) instead of CASTER's deep predictor. Specifically, the pair's functional representation (sub-structured/post pattern-mined) is classified using LR. According to the paper, though far lighter in parameter count, it was not chosen due its weaker performance. For brevity, definition and training have been combined into the cell below."
   ]
  },
  {
   "cell_type": "code",
   "execution_count": null,
   "metadata": {},
   "outputs": [
    {
     "name": "stdout",
     "output_type": "stream",
     "text": [
      "Training log reg for 36 epochs\n"
     ]
    },
    {
     "name": "stderr",
     "output_type": "stream",
     "text": [
      "  3%|▎         | 1/36 [00:04<02:48,  4.80s/it]"
     ]
    },
    {
     "name": "stdout",
     "output_type": "stream",
     "text": [
      "Epoch: 0. Loss: 0.6864171028137207.\n"
     ]
    },
    {
     "name": "stderr",
     "output_type": "stream",
     "text": [
      " 25%|██▌       | 9/36 [00:43<02:09,  4.78s/it]"
     ]
    },
    {
     "name": "stdout",
     "output_type": "stream",
     "text": [
      "Epoch: 8. Loss: 0.662103533744812.\n"
     ]
    },
    {
     "name": "stderr",
     "output_type": "stream",
     "text": [
      " 47%|████▋     | 17/36 [01:21<01:30,  4.77s/it]"
     ]
    },
    {
     "name": "stdout",
     "output_type": "stream",
     "text": [
      "Epoch: 16. Loss: 0.581276535987854.\n"
     ]
    },
    {
     "name": "stderr",
     "output_type": "stream",
     "text": [
      " 69%|██████▉   | 25/36 [01:59<00:52,  4.76s/it]"
     ]
    },
    {
     "name": "stdout",
     "output_type": "stream",
     "text": [
      "Epoch: 24. Loss: 0.5914052128791809.\n"
     ]
    },
    {
     "name": "stderr",
     "output_type": "stream",
     "text": [
      " 92%|█████████▏| 33/36 [02:37<00:14,  4.76s/it]"
     ]
    },
    {
     "name": "stdout",
     "output_type": "stream",
     "text": [
      "Epoch: 32. Loss: 0.5873168706893921.\n"
     ]
    },
    {
     "name": "stderr",
     "output_type": "stream",
     "text": [
      "100%|██████████| 36/36 [02:51<00:00,  4.77s/it]"
     ]
    },
    {
     "name": "stdout",
     "output_type": "stream",
     "text": [
      "Done training LR.\n"
     ]
    },
    {
     "name": "stderr",
     "output_type": "stream",
     "text": [
      "\n"
     ]
    }
   ],
   "source": [
    "class simple_log_reg(nn.Module):\n",
    "\n",
    "    def __init__(self, n_inputs, n_outputs):\n",
    "        super(simple_log_reg, self).__init__()\n",
    "        self.linear = torch.nn.Linear(n_inputs, n_outputs)\n",
    "    \n",
    "    def forward(self,x):\n",
    "        pred = torch.sigmoid(self.linear(x))\n",
    "        return pred[:,-1]\n",
    "\n",
    "n_inputs = CONFIG[\"input_dim\"]\n",
    "n_outputs = 1\n",
    "\n",
    "#Instantiate log reg classifier\n",
    "log_reg_model = simple_log_reg(n_inputs, n_outputs)\n",
    "\n",
    "#Using SGD for simplicity\n",
    "log_reg_optimizer = torch.optim.SGD(log_reg_model.parameters(), lr=0.001)\n",
    "log_reg_criterion = torch.nn.BCELoss()\n",
    "\n",
    "epochs = 36\n",
    "print(\"Training log reg for {} epochs\".format(epochs))\n",
    "for epoch in tqdm(range(epochs)):\n",
    "    for x_vec, y in training_generator_sup:\n",
    "        log_reg_optimizer.zero_grad()\n",
    "        log_reg_y_pred = log_reg_model(x_vec)\n",
    "        total_loss = log_reg_criterion(log_reg_y_pred, y)\n",
    "        total_loss.backward()\n",
    "        log_reg_optimizer.step()\n",
    "    if epoch % 8 == 0:\n",
    "        print('Epoch: {}. Loss: {}.'.format(epoch, total_loss.item()))\n",
    "print(\"Done training LR.\")"
   ]
  },
  {
   "cell_type": "markdown",
   "metadata": {
    "id": "gX6bCcZNuxmz"
   },
   "source": [
    "# Results:\n",
    "---\n",
    "To begin the evaluation process, we iterate through a test data set using a data loader to obtain the predictions (y_pred) from the model for each input (v_D). We then use the ground truth labels (y_label) to which we compare our predictions to calculate the evaluation metrics.\n",
    "\n",
    "The evaluation metrics used here include some of the most commonly used metrics to assess the performance of binary models: \n",
    "\n",
    "* **Average Precision Score**: Measures the precision-recall trade-off by summarizing the precision-recall curve as a weighted mean of precisions achieved at various thresholds.\n",
    "\n",
    "* **Area under the ROC Curve (AUC)**: This metric effectively describes the trade-off between true-positive rate and false-positive rate. It essentially quantifies the ability of the model to distingush between classes."
   ]
  },
  {
   "cell_type": "code",
   "execution_count": null,
   "metadata": {
    "id": "LjW9bCkouv8O"
   },
   "outputs": [
    {
     "ename": "NameError",
     "evalue": "name 'QUICK_TRAIN_DEMO' is not defined",
     "output_type": "error",
     "traceback": [
      "\u001b[0;31m---------------------------------------------------------------------------\u001b[0m",
      "\u001b[0;31mNameError\u001b[0m                                 Traceback (most recent call last)",
      "Cell \u001b[0;32mIn[68], line 24\u001b[0m\n\u001b[1;32m     20\u001b[0m log_reg_model\u001b[38;5;241m.\u001b[39meval()\n\u001b[1;32m     22\u001b[0m sigmoid \u001b[38;5;241m=\u001b[39m torch\u001b[38;5;241m.\u001b[39mnn\u001b[38;5;241m.\u001b[39mSigmoid()\n\u001b[0;32m---> 24\u001b[0m \u001b[38;5;28;01mif\u001b[39;00m \u001b[43mQUICK_TRAIN_DEMO\u001b[49m:\n\u001b[1;32m     25\u001b[0m     \u001b[38;5;28mprint\u001b[39m(\u001b[38;5;124m\"\u001b[39m\u001b[38;5;124mQUICK DEMO ACTIVE\u001b[39m\u001b[38;5;124m\"\u001b[39m)\n\u001b[1;32m     27\u001b[0m \u001b[38;5;28;01mfor\u001b[39;00m iter_idx, (v_D, label) \u001b[38;5;129;01min\u001b[39;00m tqdm(\u001b[38;5;28menumerate\u001b[39m(test_generator_sup)):\n",
      "\u001b[0;31mNameError\u001b[0m: name 'QUICK_TRAIN_DEMO' is not defined"
     ]
    }
   ],
   "source": [
    "params = {\n",
    "        'batch_size': 128,\n",
    "        'shuffle': True,\n",
    "        'num_workers': 0\n",
    "        }\n",
    "\n",
    "test_set = sup_data(df_ddi.index.values, labels_sup, df_ddi)\n",
    "test_generator_sup = data.DataLoader(test_set, **params)\n",
    "\n",
    "log_reg_y_pred = []\n",
    "log_reg_y_label = []\n",
    "\n",
    "caster_y_pred = []\n",
    "caster_y_label = []\n",
    "\n",
    "#Set caster model to eval\n",
    "caster_model.eval()\n",
    "\n",
    "#Set log reg to eval\n",
    "log_reg_model.eval()\n",
    "\n",
    "sigmoid = torch.nn.Sigmoid()\n",
    "\n",
    "if QUICK_TRAIN_DEMO:\n",
    "    print(\"QUICK DEMO ACTIVE\")\n",
    "\n",
    "for iter_idx, (v_D, label) in tqdm(enumerate(test_generator_sup)):\n",
    "    label_ids = label.to('cpu').numpy()\n",
    "\n",
    "    recon, r_vec, score, latent_dict, z_D = caster_model(v_D.float())\n",
    "    logits = torch.squeeze(sigmoid(score)).detach().cpu().numpy()\n",
    "    caster_y_label = caster_y_label + label_ids.flatten().tolist()\n",
    "    caster_y_pred = caster_y_pred + logits.flatten().tolist()\n",
    "\n",
    "    lr_outputs = log_reg_model(v_D.float())\n",
    "    log_reg_y_label = log_reg_y_label + label_ids.flatten().tolist()\n",
    "    log_reg_y_pred = log_reg_y_pred + lr_outputs.flatten().tolist()\n",
    "    \n",
    "    #Stop early at 16 iterations if QUICK_DEMO\n",
    "    if QUICK_TRAIN_DEMO and iter_idx > 16:\n",
    "        break"
   ]
  },
  {
   "cell_type": "markdown",
   "metadata": {},
   "source": [
    "In the following cells, we will plot the precision-recall curve and the AUC described above. The precision-recall curve demonstrates the precision of the model at various recall levels. This gives us an idea of the model's ability to identify positive occurences with false positives minimized.\n",
    "\n",
    "Overall, using these metrics and evaluations, we get a clear picture of the model's performance across different thresholds."
   ]
  },
  {
   "cell_type": "code",
   "execution_count": null,
   "metadata": {},
   "outputs": [
    {
     "data": {
      "text/plain": [
       "0.7593552553269254"
      ]
     },
     "execution_count": 64,
     "metadata": {},
     "output_type": "execute_result"
    },
    {
     "data": {
      "image/png": "[encoded data removed]",
      "text/plain": [
       "<Figure size 640x480 with 1 Axes>"
      ]
     },
     "metadata": {},
     "output_type": "display_data"
    }
   ],
   "source": [
    "from sklearn.metrics import average_precision_score, precision_recall_curve\n",
    "\n",
    "average_precision = average_precision_score(caster_y_label, caster_y_pred)\n",
    "precision, recall, _ = precision_recall_curve(caster_y_label, caster_y_pred)\n",
    "\n",
    "plt.step(recall, precision, color='b', alpha=0.2,\n",
    "         where='post')\n",
    "plt.fill_between(recall, precision, alpha=0.2, color='b')\n",
    "\n",
    "plt.xlabel('Recall')\n",
    "plt.ylabel('Precision')\n",
    "plt.ylim([0.0, 1.05])\n",
    "plt.xlim([0.0, 1.0])\n",
    "plt.title('2-class Precision-Recall curve: AP={0:0.2f}'.format(\n",
    "          average_precision))\n",
    "average_precision"
   ]
  },
  {
   "cell_type": "code",
   "execution_count": null,
   "metadata": {},
   "outputs": [
    {
     "ename": "ValueError",
     "evalue": "Found input variables with inconsistent numbers of samples: [2304, 16]",
     "output_type": "error",
     "traceback": [
      "\u001b[0;31m---------------------------------------------------------------------------\u001b[0m",
      "\u001b[0;31mValueError\u001b[0m                                Traceback (most recent call last)",
      "Cell \u001b[0;32mIn[67], line 8\u001b[0m\n\u001b[1;32m      5\u001b[0m caster_fpr, caster_tpr, thresholds \u001b[38;5;241m=\u001b[39m roc_curve(caster_y_label, caster_y_pred)\n\u001b[1;32m      6\u001b[0m caster_auc_score \u001b[38;5;241m=\u001b[39m auc(caster_fpr, caster_tpr)\n\u001b[0;32m----> 8\u001b[0m log_reg_fpr, log_reg_tpr, lr_thresholds \u001b[38;5;241m=\u001b[39m \u001b[43mroc_curve\u001b[49m\u001b[43m(\u001b[49m\u001b[43mlog_reg_y_label\u001b[49m\u001b[43m,\u001b[49m\u001b[43m \u001b[49m\u001b[43mlog_reg_y_pred\u001b[49m\u001b[43m)\u001b[49m\n\u001b[1;32m      9\u001b[0m log_reg_auc_score \u001b[38;5;241m=\u001b[39m auc(log_reg_fpr, log_reg_tpr)\n\u001b[1;32m     11\u001b[0m plt\u001b[38;5;241m.\u001b[39mfigure(\u001b[38;5;241m1\u001b[39m)\n",
      "File \u001b[0;32m~/.local/lib/python3.10/site-packages/sklearn/utils/_param_validation.py:213\u001b[0m, in \u001b[0;36mvalidate_params.<locals>.decorator.<locals>.wrapper\u001b[0;34m(*args, **kwargs)\u001b[0m\n\u001b[1;32m    207\u001b[0m \u001b[38;5;28;01mtry\u001b[39;00m:\n\u001b[1;32m    208\u001b[0m     \u001b[38;5;28;01mwith\u001b[39;00m config_context(\n\u001b[1;32m    209\u001b[0m         skip_parameter_validation\u001b[38;5;241m=\u001b[39m(\n\u001b[1;32m    210\u001b[0m             prefer_skip_nested_validation \u001b[38;5;129;01mor\u001b[39;00m global_skip_validation\n\u001b[1;32m    211\u001b[0m         )\n\u001b[1;32m    212\u001b[0m     ):\n\u001b[0;32m--> 213\u001b[0m         \u001b[38;5;28;01mreturn\u001b[39;00m \u001b[43mfunc\u001b[49m\u001b[43m(\u001b[49m\u001b[38;5;241;43m*\u001b[39;49m\u001b[43margs\u001b[49m\u001b[43m,\u001b[49m\u001b[43m \u001b[49m\u001b[38;5;241;43m*\u001b[39;49m\u001b[38;5;241;43m*\u001b[39;49m\u001b[43mkwargs\u001b[49m\u001b[43m)\u001b[49m\n\u001b[1;32m    214\u001b[0m \u001b[38;5;28;01mexcept\u001b[39;00m InvalidParameterError \u001b[38;5;28;01mas\u001b[39;00m e:\n\u001b[1;32m    215\u001b[0m     \u001b[38;5;66;03m# When the function is just a wrapper around an estimator, we allow\u001b[39;00m\n\u001b[1;32m    216\u001b[0m     \u001b[38;5;66;03m# the function to delegate validation to the estimator, but we replace\u001b[39;00m\n\u001b[1;32m    217\u001b[0m     \u001b[38;5;66;03m# the name of the estimator by the name of the function in the error\u001b[39;00m\n\u001b[1;32m    218\u001b[0m     \u001b[38;5;66;03m# message to avoid confusion.\u001b[39;00m\n\u001b[1;32m    219\u001b[0m     msg \u001b[38;5;241m=\u001b[39m re\u001b[38;5;241m.\u001b[39msub(\n\u001b[1;32m    220\u001b[0m         \u001b[38;5;124mr\u001b[39m\u001b[38;5;124m\"\u001b[39m\u001b[38;5;124mparameter of \u001b[39m\u001b[38;5;124m\\\u001b[39m\u001b[38;5;124mw+ must be\u001b[39m\u001b[38;5;124m\"\u001b[39m,\n\u001b[1;32m    221\u001b[0m         \u001b[38;5;124mf\u001b[39m\u001b[38;5;124m\"\u001b[39m\u001b[38;5;124mparameter of \u001b[39m\u001b[38;5;132;01m{\u001b[39;00mfunc\u001b[38;5;241m.\u001b[39m\u001b[38;5;18m__qualname__\u001b[39m\u001b[38;5;132;01m}\u001b[39;00m\u001b[38;5;124m must be\u001b[39m\u001b[38;5;124m\"\u001b[39m,\n\u001b[1;32m    222\u001b[0m         \u001b[38;5;28mstr\u001b[39m(e),\n\u001b[1;32m    223\u001b[0m     )\n",
      "File \u001b[0;32m~/.local/lib/python3.10/site-packages/sklearn/metrics/_ranking.py:1108\u001b[0m, in \u001b[0;36mroc_curve\u001b[0;34m(y_true, y_score, pos_label, sample_weight, drop_intermediate)\u001b[0m\n\u001b[1;32m   1006\u001b[0m \u001b[38;5;129m@validate_params\u001b[39m(\n\u001b[1;32m   1007\u001b[0m     {\n\u001b[1;32m   1008\u001b[0m         \u001b[38;5;124m\"\u001b[39m\u001b[38;5;124my_true\u001b[39m\u001b[38;5;124m\"\u001b[39m: [\u001b[38;5;124m\"\u001b[39m\u001b[38;5;124marray-like\u001b[39m\u001b[38;5;124m\"\u001b[39m],\n\u001b[0;32m   (...)\u001b[0m\n\u001b[1;32m   1017\u001b[0m     y_true, y_score, \u001b[38;5;241m*\u001b[39m, pos_label\u001b[38;5;241m=\u001b[39m\u001b[38;5;28;01mNone\u001b[39;00m, sample_weight\u001b[38;5;241m=\u001b[39m\u001b[38;5;28;01mNone\u001b[39;00m, drop_intermediate\u001b[38;5;241m=\u001b[39m\u001b[38;5;28;01mTrue\u001b[39;00m\n\u001b[1;32m   1018\u001b[0m ):\n\u001b[1;32m   1019\u001b[0m \u001b[38;5;250m    \u001b[39m\u001b[38;5;124;03m\"\"\"Compute Receiver operating characteristic (ROC).\u001b[39;00m\n\u001b[1;32m   1020\u001b[0m \n\u001b[1;32m   1021\u001b[0m \u001b[38;5;124;03m    Note: this implementation is restricted to the binary classification task.\u001b[39;00m\n\u001b[0;32m   (...)\u001b[0m\n\u001b[1;32m   1106\u001b[0m \u001b[38;5;124;03m    array([ inf, 0.8 , 0.4 , 0.35, 0.1 ])\u001b[39;00m\n\u001b[1;32m   1107\u001b[0m \u001b[38;5;124;03m    \"\"\"\u001b[39;00m\n\u001b[0;32m-> 1108\u001b[0m     fps, tps, thresholds \u001b[38;5;241m=\u001b[39m \u001b[43m_binary_clf_curve\u001b[49m\u001b[43m(\u001b[49m\n\u001b[1;32m   1109\u001b[0m \u001b[43m        \u001b[49m\u001b[43my_true\u001b[49m\u001b[43m,\u001b[49m\u001b[43m \u001b[49m\u001b[43my_score\u001b[49m\u001b[43m,\u001b[49m\u001b[43m \u001b[49m\u001b[43mpos_label\u001b[49m\u001b[38;5;241;43m=\u001b[39;49m\u001b[43mpos_label\u001b[49m\u001b[43m,\u001b[49m\u001b[43m \u001b[49m\u001b[43msample_weight\u001b[49m\u001b[38;5;241;43m=\u001b[39;49m\u001b[43msample_weight\u001b[49m\n\u001b[1;32m   1110\u001b[0m \u001b[43m    \u001b[49m\u001b[43m)\u001b[49m\n\u001b[1;32m   1112\u001b[0m     \u001b[38;5;66;03m# Attempt to drop thresholds corresponding to points in between and\u001b[39;00m\n\u001b[1;32m   1113\u001b[0m     \u001b[38;5;66;03m# collinear with other points. These are always suboptimal and do not\u001b[39;00m\n\u001b[1;32m   1114\u001b[0m     \u001b[38;5;66;03m# appear on a plotted ROC curve (and thus do not affect the AUC).\u001b[39;00m\n\u001b[0;32m   (...)\u001b[0m\n\u001b[1;32m   1119\u001b[0m     \u001b[38;5;66;03m# but does not drop more complicated cases like fps = [1, 3, 7],\u001b[39;00m\n\u001b[1;32m   1120\u001b[0m     \u001b[38;5;66;03m# tps = [1, 2, 4]; there is no harm in keeping too many thresholds.\u001b[39;00m\n\u001b[1;32m   1121\u001b[0m     \u001b[38;5;28;01mif\u001b[39;00m drop_intermediate \u001b[38;5;129;01mand\u001b[39;00m \u001b[38;5;28mlen\u001b[39m(fps) \u001b[38;5;241m>\u001b[39m \u001b[38;5;241m2\u001b[39m:\n",
      "File \u001b[0;32m~/.local/lib/python3.10/site-packages/sklearn/metrics/_ranking.py:819\u001b[0m, in \u001b[0;36m_binary_clf_curve\u001b[0;34m(y_true, y_score, pos_label, sample_weight)\u001b[0m\n\u001b[1;32m    816\u001b[0m \u001b[38;5;28;01mif\u001b[39;00m \u001b[38;5;129;01mnot\u001b[39;00m (y_type \u001b[38;5;241m==\u001b[39m \u001b[38;5;124m\"\u001b[39m\u001b[38;5;124mbinary\u001b[39m\u001b[38;5;124m\"\u001b[39m \u001b[38;5;129;01mor\u001b[39;00m (y_type \u001b[38;5;241m==\u001b[39m \u001b[38;5;124m\"\u001b[39m\u001b[38;5;124mmulticlass\u001b[39m\u001b[38;5;124m\"\u001b[39m \u001b[38;5;129;01mand\u001b[39;00m pos_label \u001b[38;5;129;01mis\u001b[39;00m \u001b[38;5;129;01mnot\u001b[39;00m \u001b[38;5;28;01mNone\u001b[39;00m)):\n\u001b[1;32m    817\u001b[0m     \u001b[38;5;28;01mraise\u001b[39;00m \u001b[38;5;167;01mValueError\u001b[39;00m(\u001b[38;5;124m\"\u001b[39m\u001b[38;5;132;01m{0}\u001b[39;00m\u001b[38;5;124m format is not supported\u001b[39m\u001b[38;5;124m\"\u001b[39m\u001b[38;5;241m.\u001b[39mformat(y_type))\n\u001b[0;32m--> 819\u001b[0m \u001b[43mcheck_consistent_length\u001b[49m\u001b[43m(\u001b[49m\u001b[43my_true\u001b[49m\u001b[43m,\u001b[49m\u001b[43m \u001b[49m\u001b[43my_score\u001b[49m\u001b[43m,\u001b[49m\u001b[43m \u001b[49m\u001b[43msample_weight\u001b[49m\u001b[43m)\u001b[49m\n\u001b[1;32m    820\u001b[0m y_true \u001b[38;5;241m=\u001b[39m column_or_1d(y_true)\n\u001b[1;32m    821\u001b[0m y_score \u001b[38;5;241m=\u001b[39m column_or_1d(y_score)\n",
      "File \u001b[0;32m~/.local/lib/python3.10/site-packages/sklearn/utils/validation.py:457\u001b[0m, in \u001b[0;36mcheck_consistent_length\u001b[0;34m(*arrays)\u001b[0m\n\u001b[1;32m    455\u001b[0m uniques \u001b[38;5;241m=\u001b[39m np\u001b[38;5;241m.\u001b[39munique(lengths)\n\u001b[1;32m    456\u001b[0m \u001b[38;5;28;01mif\u001b[39;00m \u001b[38;5;28mlen\u001b[39m(uniques) \u001b[38;5;241m>\u001b[39m \u001b[38;5;241m1\u001b[39m:\n\u001b[0;32m--> 457\u001b[0m     \u001b[38;5;28;01mraise\u001b[39;00m \u001b[38;5;167;01mValueError\u001b[39;00m(\n\u001b[1;32m    458\u001b[0m         \u001b[38;5;124m\"\u001b[39m\u001b[38;5;124mFound input variables with inconsistent numbers of samples: \u001b[39m\u001b[38;5;132;01m%r\u001b[39;00m\u001b[38;5;124m\"\u001b[39m\n\u001b[1;32m    459\u001b[0m         \u001b[38;5;241m%\u001b[39m [\u001b[38;5;28mint\u001b[39m(l) \u001b[38;5;28;01mfor\u001b[39;00m l \u001b[38;5;129;01min\u001b[39;00m lengths]\n\u001b[1;32m    460\u001b[0m     )\n",
      "\u001b[0;31mValueError\u001b[0m: Found input variables with inconsistent numbers of samples: [2304, 16]"
     ]
    }
   ],
   "source": [
    "#===== ROC CURVE CODE =====\n",
    "\n",
    "from sklearn.metrics import roc_auc_score, precision_recall_curve, roc_curve, auc, confusion_matrix, classification_report\n",
    "\n",
    "caster_fpr, caster_tpr, thresholds = roc_curve(caster_y_label, caster_y_pred)\n",
    "caster_auc_score = auc(caster_fpr, caster_tpr)\n",
    "\n",
    "log_reg_fpr, log_reg_tpr, lr_thresholds = roc_curve(log_reg_y_label, log_reg_y_pred)\n",
    "log_reg_auc_score = auc(log_reg_fpr, log_reg_tpr)\n",
    "\n",
    "plt.figure(1)\n",
    "plt.plot([0, 1], [0, 1], 'k--')\n",
    "plt.plot(caster_fpr, caster_tpr, label='CASTER (area = {:.3f})'.format(caster_auc_score))\n",
    "plt.plot(log_reg_fpr, log_reg_tpr, label='LR (area = {:.3f})'.format(log_reg_auc_score))\n",
    "plt.xlabel('FPR')\n",
    "plt.ylabel('TPR')\n",
    "plt.title('ROC')\n",
    "plt.legend(loc='best')"
   ]
  },
  {
   "cell_type": "markdown",
   "metadata": {
    "id": "8EAWAy_LwHlV"
   },
   "source": [
    "# Model Comparison:\n",
    "\n",
    "---\n",
    "\n",
    "*TODO*"
   ]
  },
  {
   "cell_type": "markdown",
   "metadata": {
    "id": "qH75TNU71eRH"
   },
   "source": [
    "# Discussion :\n",
    "---\n",
    "\n",
    "* Is the paper reproducible?\n",
    "    * **Yes.** At this point, we’ve demonstrated that we can instantiate, train, and evaluate the model, thus we believe that it is, indeed, reproducible. The only blocker is our lack of compute power. At ~50 sec/iteration for training on a beefier CPU (due to lack of an RTX 4090 / other CUDA GPU), it would be untenable to train both phases on our local machines. Our plan moving forward is to secure the appropriate compute resources from Google Cloud and have our model run within a reasonable timeframe. The authors did mention their hardware specifications but did not mention a timeframe for how long they trained for. We can reduce model size and depth accordingly, if cloud compute resources would still not be enough or we run out of credits.\n",
    "\n",
    "* What was easy?\n",
    "    * One of the aspects of the paper reproduction that we found straightforward was understanding the authors’ intentions in the code. Although the script was not accompanied by copious documentation, the comments in the code, a relatively clear procedural flow in the script, and slowly working through the paper helped us understand what is being accomplished with the provided code.\n",
    "    \n",
    "* What was difficult?\n",
    "    * One aspect that we found difficult was finding the right computing power to handle the scale of computation demanded by the CASTER model. In the subsequent project phase, we plan to migrate our replication efforts to cloud infrastructure thereby availing ourselves of improved computational abilities.\n",
    "\n",
    "* Future Plans:\n",
    "    * In the next phase, we plan on either migrating our notebook to Google Colab (this free version of Colab grants access to Nvidia's T4 GPUs subject to quota restrictions and availability), Google Colab Pro (which grants access to premium V100 or A100 Nvidia GPUs), Google Cloud Platform, or Kaggle (which grants access to two T4 GPUs and one A100 GPU subject to quota restrictions and availability as well). Depending on the model parameter sizes and training time, we will use one or more of these platforms, possibly in parallel. We will also finish our planned ablations, refactor, and add more detailed comments for a more readable and easily understandable notebook."
   ]
  },
  {
   "cell_type": "markdown",
   "metadata": {
    "id": "SHMI2chl9omn"
   },
   "source": [
    "# References\n",
    "\n",
    "1.   Huang, K., Xiao, C., Hoang, T., Glass, L., & Sun, J. (2020, April). Caster: Predicting drug interactions with chemical substructure representation. In Proceedings of the AAAI conference on artificial intelligence (Vol. 34, No. 01, pp. 702-709).\n",
    "\n"
   ]
  }
 ],
 "metadata": {
  "colab": {
   "private_outputs": true,
   "provenance": [
    {
     "file_id": "1oAKqszNlwEZwPa_BjHPqfcoWlikYBpi5",
     "timestamp": 1709153069464
    }
   ],
   "toc_visible": true
  },
  "kernelspec": {
   "display_name": "Python 3",
   "name": "python3"
  },
  "language_info": {
   "codemirror_mode": {
    "name": "ipython",
    "version": 3
   },
   "file_extension": ".py",
   "mimetype": "text/x-python",
   "name": "python",
   "nbconvert_exporter": "python",
   "pygments_lexer": "ipython3",
   "version": "3.10.12"
  }
 },
 "nbformat": 4,
 "nbformat_minor": 0
}
