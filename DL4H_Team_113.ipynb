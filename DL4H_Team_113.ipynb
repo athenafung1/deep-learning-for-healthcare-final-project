{
 "cells": [
  {
   "cell_type": "markdown",
   "metadata": {
    "id": "j01aH0PR4Sg-"
   },
   "source": [
    "# FAQ and Attentions\n",
    "* Copy and move this template to your Google Drive. Name your notebook by your team ID (upper-left corner). Don't eidt this original file.\n",
    "* This template covers most questions we want to ask about your reproduction experiment. You don't need to exactly follow the template, however, you should address the questions. Please feel free to customize your report accordingly.\n",
    "* any report must have run-able codes and necessary annotations (in text and code comments).\n",
    "* The notebook is like a demo and only uses small-size data (a subset of original data or processed data), the entire runtime of the notebook including data reading, data process, model training, printing, figure plotting, etc,\n",
    "must be within 8 min, otherwise, you may get penalty on the grade.\n",
    "  * If the raw dataset is too large to be loaded  you can select a subset of data and pre-process the data, then, upload the subset or processed data to Google Drive and load them in this notebook.\n",
    "  * If the whole training is too long to run, you can only set the number of training epoch to a small number, e.g., 3, just show that the training is runable.\n",
    "  * For results model validation, you can train the model outside this notebook in advance, then, load pretrained model and use it for validation (display the figures, print the metrics).\n",
    "* The post-process is important! For post-process of the results,please use plots/figures. The code to summarize results and plot figures may be tedious, however, it won't be waste of time since these figures can be used for presentation. While plotting in code, the figures should have titles or captions if necessary (e.g., title your figure with \"Figure 1. xxxx\")\n",
    "* There is not page limit to your notebook report, you can also use separate notebooks for the report, just make sure your grader can access and run/test them.\n",
    "* If you use outside resources, please refer them (in any formats). Include the links to the resources if necessary."
   ]
  },
  {
   "cell_type": "markdown",
   "metadata": {
    "id": "MQ0sNuMePBXx"
   },
   "source": [
    "# Introduction:\n",
    "---\n",
    "\n",
    "## Background\n",
    "\n",
    "  Adverse drug-drug interaction (DDI) is the unintended molecular interactions between drugs. It’s a prominent cause of patient morbidities/mortalities, incurring higher costs and risking patient safety. The difficulty of mitigating this issue stems from a couple of factors: \n",
    "\n",
    "  * The molecular structure of drugs are complex, consisting of many units and substructures\n",
    "  * Drug development is a process that requires highly specialized knowledge\n",
    "  * Trials to test drugs and post-market surveillance are long, expensive processes\n",
    "\n",
    "  With respect to applying ML to this topic, there are also a couple of issues:\n",
    "  \n",
    "  * There is a relatively light amount of training data that exists, due to the slow reporting of DDI instances\n",
    "  * Deep learning models have a large number of parameters, making interpretation of the model’s results difficult. One example is that it can be hard to extract the reason for *why* a DDI is occurring.\n",
    "  * DDIs usually result from the reactions of only a few sub-structures of a drug’s entire molecule, but many drug-drug pairs have significant overlaps on larger but irrelevant substructures. This skews the results of DDI prediction.\n",
    "\n",
    "  There is major interest in predicting whether two drugs will interact (especially during the design process) to reduce testing/development costs and to improve patient safety.\n",
    "\n",
    "### The Current State of the Art\n",
    " \n",
    "  Deep learning models have been successfully used to predict DDIs, however such previous models often generate drug representations using the entire chemical representation, causing learned representations to be potentially biased toward the large, irrelevant substructures and ultimately nullify learned drug similarities and predictions.\n"
   ]
  },
  {
   "cell_type": "markdown",
   "metadata": {},
   "source": [
    "# CASTER\n",
    "---\n",
    "The **ChemicAl SubstrucTurE Representation** framework (CASTER) was introduced as a DDI prediction model, improving on the weaknesses of prior works. CASTER adds a couple of improvements upon previous works. It includes a sequential pattern mining (SPM) method to efficiently decompose a SMILEs string into a set of functional drug sub-structures. This accounts for the interaction mechanism between drugs, as interactions depend primarily on the reaction between only a few functional sub-structures. It also includes an autoencoder that works in tandem with a dictionary learning module. This allows the decoding of the latent result, which can help human operators better understand the probability of which sub-structures of a molecule pair are interacting. \n",
    "\n",
    "The authors presented the following hypotheses:\n",
    "1.  The CASTER model will provide more accurate DDI predictions when compared with other established models.\n",
    "2.  The usage of unlabelled data to generate frequent sub-structure features improves performance in situations with limited labeled datasets.\n",
    "3.  CASTER’s sub-structure dictionary can help human operators better comprehend the final result.\n",
    "\n",
    "Based on the paper, it outperformed multiple other models while having a slightly smaller set of parameters, as shown below:\n",
    "\n",
    "![caster_results.png](img/caster_results.png)\n",
    "\n",
    "### Architecture\n",
    "\n",
    "![caster_structure.png](img/caster_block_diagram.png)\n",
    "\n",
    "The model consists of a few notable parts:\n",
    "* **Sequential Pattern Mining (SPM)**\n",
    "    * The SMILEs strings are initially passed through a sequential pattern mining process to find frequently occurring substructures\n",
    "        * The frequent substructures are put into a dictionary (*u[1-k]*)\n",
    "    * SMILEs pairs are encoded into multi-hot vectors of their frequent substructures and combined into a single functional representation (*X*)\n",
    "* **Encoder**\n",
    "    * The functional representation is passed through the encoder to make a latent feature vector (*z*)\n",
    "    * The individual freq. substructures, as one-hot vectors, are also passed through the encoder to make a latent dictionary of substructures (*b[1-k]*)\n",
    "* **Predictor**\n",
    "    * The latent representation is projected onto the latent dictionary to form a set of coefficients (*r[1-k]*)\n",
    "    * The coefficients are passed through a standard fully connected NN.\n",
    "* **Decoder**\n",
    "    * The latent representation is passed through the decoder to reconstruct the functional representation and help comprehend the result\n",
    "\n",
    "CASTER is noteworthy for its progress in considering the holistic structures of molecules, and the fact that it can provide a more understandable, practical output to a human operator using the tool."
   ]
  },
  {
   "cell_type": "markdown",
   "metadata": {
    "id": "uygL9tTPSVHB"
   },
   "source": [
    "## Scope of Reproducibility:\n",
    "\n",
    "We will attempt to test the two following hypotheses with the same hyperparameters defined in the paper/repo:\n",
    "\n",
    "1.  *The CASTER model will provide more accurate DDI predictions when compared with other established models.*\n",
    "2.  *The usage of unlabelled data to generate frequent sub-structure features improves performance in situations with limited labeled datasets.*"
   ]
  },
  {
   "cell_type": "markdown",
   "metadata": {
    "id": "xWAHJ_1CdtaA"
   },
   "source": [
    "# Methodology:\n",
    "---\n",
    "### Setup:\n",
    "This notebook was run with Python >=3.8. The required packages below can be installed using conda, venv, or pip.\n",
    "* numpy\n",
    "* torch\n",
    "* subword_nmt\n",
    "* codecs\n",
    "* pandas\n",
    "* scikit-learn\n",
    "* tqdm\n",
    "* matplotlib\n",
    "\n",
    "### Running the Notebook:\n",
    "Hit `Run All`.\n",
    "\n",
    "### Notes on Hardware and Runtime:\n",
    "The workstation this notebook was run on contains a Ryzen 7 5700x CPU and 32 GB of RAM. Based on our testing, the runtimes were:\n",
    "* Pre-Training & Training : ~50 sec/iteration each\n",
    "* Evaluation : ~12 sec/iteration, ~70 sec total\n",
    "\n",
    "In total, it is well below the 8 min runtime limit. Depending on available compute power, your expected runtime may increase or decrease. For the sake of convenience, a `QUICK_DEMO` parameter was added into the `CONFIG` cell to allow for a quick demo, as its name implies.\n",
    "\n"
   ]
  },
  {
   "cell_type": "code",
   "execution_count": 1,
   "metadata": {
    "id": "yu61Jp1xrnKk"
   },
   "outputs": [],
   "source": [
    "import numpy as np\n",
    "\n",
    "#Basic torch imports\n",
    "import torch\n",
    "from torch.autograd import Variable\n",
    "import torch.nn.functional as F\n",
    "from torch.utils import data\n",
    "from torch import nn \n",
    "import copy\n",
    "\n",
    "#Used for parsing the misc datasets\n",
    "from subword_nmt.apply_bpe import BPE\n",
    "import codecs\n",
    "\n",
    "#For dataset preparation and evaluation\n",
    "import pandas as pd\n",
    "from sklearn.metrics import roc_auc_score, precision_recall_curve\n",
    "from sklearn.model_selection import KFold\n",
    "\n",
    "#Misc.\n",
    "from tqdm import tqdm\n",
    "import matplotlib.pyplot as plt\n",
    "from time import time\n",
    "torch.manual_seed(2)    # reproducible torch:2 np:3\n",
    "np.random.seed(3)"
   ]
  },
  {
   "cell_type": "code",
   "execution_count": 2,
   "metadata": {},
   "outputs": [],
   "source": [
    "QUICK_DEMO = True\n",
    "\n",
    "#Defines configuration for the data/model/training.\n",
    "CONFIG = {}\n",
    "\n",
    "#Learning rate\n",
    "CONFIG['LR'] = 1e-3\n",
    "CONFIG['batch_size'] = 256\n",
    "CONFIG['batch_first'] = True\n",
    "\n",
    "#Number of pretrain and training epochs\n",
    "CONFIG['pretrain_epochs'] = 3\n",
    "CONFIG['train_epochs'] = 3\n",
    "\n",
    "#Self defined coefficient to multiply with the reconstruction loss.\n",
    "CONFIG['reconstruction_coefficient'] = 1e-1  # 1e-2\n",
    "#Defines a stopping point for pre-training the encoder/decoder\n",
    "CONFIG['recon_threshold'] = 0.0005 # change later\n",
    "CONFIG['projection_coefficient'] = 1e-1  # 1e-2\n",
    "\n",
    "#The width of the drug-drug pair's multi-hot functional representation\n",
    "CONFIG['input_dim'] = 1722\n",
    "CONFIG['num_class'] = 2\n",
    "\n",
    "#===== Encoder/Decoder Parameters =====\n",
    "CONFIG['encode_fc1_dim'] = 500  # encoder fc1\n",
    "CONFIG['encode_fc2_dim'] = 50  # encoder fc2\n",
    "CONFIG['decode_fc1_dim'] = 500  # decoder fc1\n",
    "CONFIG['decode_fc2_dim'] = CONFIG['input_dim']  # decoder reconstruction\n",
    "\n",
    "#===== Deep Predictor Parameters =====\n",
    "CONFIG['magnify_factor'] = 100\n",
    "CONFIG['predict_dim'] = 1024 # for every layer\n",
    "CONFIG['predict_out_dim'] = 1 # predictor out\n",
    "\n",
    "CONFIG['lambda1'] = 1e-2  # L1 regularization coefficient\n",
    "CONFIG['lambda2'] = 1e-1  # L2 regulatization coefficient\n",
    "CONFIG['lambda3'] = 1e-5  # L2 regulatization coefficient\n"
   ]
  },
  {
   "cell_type": "markdown",
   "metadata": {
    "id": "2NbPHUTMbkD3"
   },
   "source": [
    "##  Data:\n",
    "The data that CASTER ingests consists of 3 datasets:\n",
    "  * unsup_dataset.csv = A dataset of randomly combined pairs of SMILEs strings drawn from FooDB (a db of food constituent molecules) and all drugs, drawn from DrugBank\n",
    "    * This unsupervised dataset is used to help find frequent SMILEs substructures and train the encoder/decoder\n",
    "  * BIOSNAP/sup*.csv = A dataset from Stanford's Biomedical Network Dataset indicating pairs of SMILEs strings and presence of DDI\n",
    "    * These are the supervised datasets for training the predictor\n",
    "  * subword_units_map.csv = The 1722 frequent patterns extracted from the unsupervised strings, already produced by the sequential pattern mining (SPM) routine"
   ]
  },
  {
   "cell_type": "code",
   "execution_count": 3,
   "metadata": {},
   "outputs": [],
   "source": [
    "#===== DATASET DEFINITIONS =====\n",
    "vocab_path = \"data/codes.txt\"\n",
    "bpe_codes_fin = codecs.open(vocab_path)\n",
    "bpe = BPE(bpe_codes_fin, merges=-1, separator='')\n",
    "\n",
    "#Get frequent substructures\n",
    "vocab_map = pd.read_csv('data/subword_units_map.csv')\n",
    "idx2word = vocab_map['index'].values\n",
    "words2idx = dict(zip(idx2word, range(0, len(idx2word))))\n",
    "\n",
    "#===== Helper functions =====\n",
    "#Map the smiles strings into multi-hot representations of substructures.\n",
    "def smiles2index(s1, s2):\n",
    "    t1 = bpe.process_line(s1).split() #split\n",
    "    t2 = bpe.process_line(s2).split() #split\n",
    "    i1 = [words2idx[i] for i in t1] # index\n",
    "    i2 = [words2idx[i] for i in t2] # index\n",
    "    return i1, i2\n",
    "\n",
    "#Combine both multi-hot representations into a single multi-hot (the functional representation)\n",
    "def index2multi_hot(i1, i2):\n",
    "    v_d = np.zeros(len(idx2word),)\n",
    "    v_d[i1] = 1\n",
    "    v_d[i2] = 1\n",
    "    return v_d\n",
    "\n",
    "#Final product, takes two smiles strings and turns them into the functional representation multi-hot.\n",
    "def smiles2vector(s1, s2):\n",
    "    i1, i2 = smiles2index(s1, s2)\n",
    "    v_d = index2multi_hot(i1, i2)\n",
    "    return v_d\n",
    "\n",
    "#===== Datasets =====\n",
    "class sup_data(data.Dataset):\n",
    "\n",
    "    def __init__(self, list_IDs, labels, df_ddi):\n",
    "        'Initialization'\n",
    "        self.labels = labels\n",
    "        self.list_IDs = list_IDs\n",
    "        self.df = df_ddi\n",
    "        \n",
    "    def __len__(self):\n",
    "        'Denotes the total number of samples'\n",
    "        return len(self.list_IDs)\n",
    "\n",
    "    def __getitem__(self, index):\n",
    "        'Generates one sample of data'\n",
    "        # Select sample\n",
    "        index = self.list_IDs[index]\n",
    "        # Load data from sample and get multi-hot\n",
    "        s1 = self.df.iloc[index].Drug1_SMILES\n",
    "        s2 = self.df.iloc[index].Drug2_SMILES\n",
    "        v_d = smiles2vector(s1, s2)\n",
    "        #Get label\n",
    "        y = self.labels[index]\n",
    "        #Return combined multi-hot and its label.\n",
    "        return v_d, y\n",
    "    \n",
    "class unsup_data(data.Dataset):\n",
    "\n",
    "    def __init__(self, list_IDs, df):\n",
    "        'Initialization'\n",
    "        self.list_IDs = list_IDs\n",
    "        self.df = df\n",
    "\n",
    "    def __len__(self):\n",
    "        'Denotes the total number of samples'\n",
    "        return len(self.list_IDs)\n",
    "\n",
    "    def __getitem__(self, index):\n",
    "        'Generates one sample of data'\n",
    "        # Load data and get label\n",
    "        index = self.list_IDs[index]\n",
    "        s1 = self.df.iloc[index].input1_SMILES\n",
    "        s2 = self.df.iloc[index].input2_SMILES\n",
    "        v_d = smiles2vector(s1, s2)\n",
    "        return v_d"
   ]
  },
  {
   "cell_type": "code",
   "execution_count": 4,
   "metadata": {
    "id": "BZScZNbROw-N"
   },
   "outputs": [
    {
     "name": "stdout",
     "output_type": "stream",
     "text": [
      "==============================\n",
      "TOTAL UNSUPERVISED SET\n",
      "==============================\n",
      "# of samples: 441853\n",
      "# of drug-food pairs: 220926\n",
      "# of drug-drug pairs: 220927\n",
      "==============================\n",
      "BIOSNAP TRAIN/VAL SET\n",
      "==============================\n",
      "# of samples: 66432\n",
      "# of DDIs: 33243\n"
     ]
    }
   ],
   "source": [
    "#Read datasets\n",
    "df_unsup = pd.read_csv('data/unsup_dataset.csv', names = ['idx', 'input1_SMILES', 'input2_SMILES', 'type']).drop(0)# pairs dataframe input1_smiles, input2_smiles\n",
    "df_ddi = pd.read_csv('data/BIOSNAP/sup_train_val.csv')  # ddi dataframe drug1_smiles, drug2_smiles\n",
    "\n",
    "#Print some basic info about the datasets \n",
    "print(\"=\"*30)\n",
    "print(\"TOTAL UNSUPERVISED SET\")\n",
    "print(\"=\"*30)\n",
    "print(\"# of samples:\",len(df_unsup))\n",
    "print(\"# of drug-food pairs:\",sum(df_unsup.type == \"df_pair\"))\n",
    "print(\"# of drug-drug pairs:\",sum(df_unsup.type == \"dd_pair\"))\n",
    "print(\"=\"*30)\n",
    "print(\"BIOSNAP TRAIN/VAL SET\")\n",
    "print(\"=\"*30)\n",
    "print(\"# of samples:\",len(df_ddi))\n",
    "print(\"# of DDIs:\",sum(df_ddi.label == 1.0))\n",
    "\n",
    "#Do kfold\n",
    "kf = KFold(n_splits = 8, shuffle = True, random_state = 3)\n",
    "\n",
    "#Get the 1st fold index\n",
    "fold_index = next(kf.split(df_ddi), None)\n",
    "\n",
    "ids_unsup = df_unsup.index.values\n",
    "partition_sup = {'train': fold_index[0], 'val': fold_index[1]}\n",
    "labels_sup = df_ddi.label.values\n",
    "\n",
    "LOADER_PARAMS = {\n",
    "    'batch_size': CONFIG[\"batch_size\"],\n",
    "    'shuffle': True,\n",
    "    'num_workers': 0\n",
    "    }\n",
    "\n",
    "unsup_set = unsup_data(ids_unsup, df_unsup)\n",
    "unsup_generator = data.DataLoader(unsup_set, **LOADER_PARAMS)\n",
    "\n",
    "training_set = sup_data(partition_sup['train'], labels_sup, df_ddi)\n",
    "training_generator_sup = data.DataLoader(training_set, **LOADER_PARAMS)\n",
    "\n",
    "validation_set = sup_data(partition_sup['val'], labels_sup, df_ddi)\n",
    "validation_generator_sup = data.DataLoader(validation_set, **LOADER_PARAMS)"
   ]
  },
  {
   "cell_type": "markdown",
   "metadata": {
    "id": "3muyDPFPbozY"
   },
   "source": [
    "## Model Definition:\n",
    "\n",
    "Based on CASTER's github, the model was defined with the following parameters:\n",
    "* Encoder/Decoder: 2 Layer 500x50 NNs with ReLU activations\n",
    "* Predictor: 7 Layer 1024 wide NNs with ReLU activations\n",
    "* Optimizer: Adam\n",
    "\n",
    "$\\frac{a}{b}$\n",
    "\n",
    "The model includes the model definition which usually is a class, model training, and other necessary parts.\n",
    "* Model architecture: layer number/size/type, activation function, etc\n",
    "* Training objectives: loss function, optimizer, weight of each loss term, etc\n"
   ]
  },
  {
   "cell_type": "code",
   "execution_count": 5,
   "metadata": {
    "id": "gBdVZoTvsSFV"
   },
   "outputs": [
    {
     "data": {
      "text/plain": [
       "'\\ndef train_model_one_iter(model, loss_func, optimizer):\\n    pass\\n\\nnum_epoch = 10\\n# model training loop: it is better to print the training/validation losses during the training\\nfor i in range(num_epoch):\\n    train_model_one_iter(model, loss_func, log_reg_optimizer)\\n    train_loss, valid_loss = None, None\\n    print(\"Train Loss: %.2f, Validation Loss: %.2f\" % (train_loss, valid_loss))\\n'"
      ]
     },
     "execution_count": 5,
     "metadata": {},
     "output_type": "execute_result"
    }
   ],
   "source": [
    "class CASTER(nn.Sequential):\n",
    "\n",
    "    def __init__(self, **config):\n",
    "        super(CASTER, self).__init__()\n",
    "        self.input_dim = config['input_dim']\n",
    "        self.num_class = config['num_class']\n",
    "        self.lambda3 = config['lambda3']        \n",
    "        self.encode_fc1_dim = config['encode_fc1_dim']\n",
    "        self.encode_fc2_dim = config['encode_fc2_dim']\n",
    "        self.decode_fc1_dim = config['decode_fc1_dim']\n",
    "        self.decode_fc2_dim = config['decode_fc2_dim']\n",
    "        self.predict_dim = config['predict_dim']\n",
    "        self.predict_out_dim = config['predict_out_dim']\n",
    "        self.mag_factor = config['magnify_factor']        \n",
    "\n",
    "        # encoder: two layer NN\n",
    "        self.encoder = nn.Sequential(\n",
    "            nn.Linear(self.input_dim, self.encode_fc1_dim),\n",
    "            nn.ReLU(True),\n",
    "            nn.Linear(self.encode_fc1_dim, self.encode_fc2_dim)\n",
    "        )\n",
    "        \n",
    "        # decoder: two layer NN\n",
    "        self.decoder = nn.Sequential(\n",
    "            nn.Linear(self.encode_fc2_dim, self.decode_fc1_dim),\n",
    "            nn.ReLU(True),\n",
    "            nn.Linear(self.decode_fc1_dim, self.decode_fc2_dim)\n",
    "        )\n",
    "\n",
    "        # predictor: eight layer NN\n",
    "        self.predictor = nn.Sequential(\n",
    "            # layer 1\n",
    "            nn.Linear(self.input_dim, self.predict_dim),\n",
    "            nn.ReLU(True),\n",
    "            # layer 2\n",
    "            nn.BatchNorm1d(self.predict_dim),\n",
    "            nn.Linear(self.predict_dim, self.predict_dim),\n",
    "            nn.ReLU(True),\n",
    "            # layer 3\n",
    "            nn.BatchNorm1d(self.predict_dim),\n",
    "            nn.Linear(self.predict_dim, self.predict_dim),\n",
    "            nn.ReLU(True),\n",
    "            # layer 4\n",
    "            nn.BatchNorm1d(self.predict_dim),\n",
    "            nn.Linear(self.predict_dim, self.predict_dim),\n",
    "            nn.ReLU(True),\n",
    "            # layer 5\n",
    "            nn.BatchNorm1d(self.predict_dim),\n",
    "            nn.Linear(self.predict_dim, self.predict_dim),\n",
    "            nn.ReLU(True),\n",
    "            # layer 6\n",
    "            nn.BatchNorm1d(self.predict_dim),\n",
    "            nn.Linear(self.predict_dim, 64),\n",
    "            nn.ReLU(True),\n",
    "            # output layer\n",
    "            nn.Linear(64, self.predict_out_dim)\n",
    "        )\n",
    "\n",
    "    def dictionary_encoder(self, z, latent_dict):\n",
    "        '''\n",
    "        :param z: batch_size x encode_fc2_dim\n",
    "        :param latent_dict: encode_fc2_dim x eta\n",
    "        :return: sparse code r: batch_size x eta\n",
    "        '''       \n",
    "        \n",
    "        DTD = torch.matmul(latent_dict, latent_dict.transpose(2, 1))  # D is Dictionary;  D^T D encode_dim x eta\n",
    "        DTD_inv = torch.inverse(DTD + self.lambda3 * torch.eye(self.input_dim))  # (D^T D + \\lambda2 I )^{-1} D^T D, eta x eta\n",
    "        DTD_inv_DT = torch.matmul(DTD_inv, latent_dict)  \n",
    "\n",
    "        r = z[:,None,:].matmul(DTD_inv_DT.transpose(2, 1)).squeeze(1) # batch_size x eta    \n",
    "        return r\n",
    "\n",
    "    def forward(self, x_vec):\n",
    "        '''\n",
    "        :param x_vec: batch_size x width of multi-hot functional\n",
    "        :return: recon, r_vec, score\n",
    "        '''\n",
    "        _, x_width = x_vec.shape\n",
    "        \n",
    "        # Encode functional representation into latent representation \n",
    "        z_vec = self.encoder(x_vec)\n",
    "        \n",
    "        # Create latent dictionary using encoder\n",
    "        latent_dict = self.encoder(torch.eye(x_width))\n",
    "        latent_dict = latent_dict.mul(x_vec[:,:,None]) \n",
    "        \n",
    "        # Use dictionary to get coeffs/r_vec\n",
    "        r_vec = self.dictionary_encoder(z_vec, latent_dict)\n",
    "\n",
    "        # Pass coeffs through the deep predictor\n",
    "        score = self.predictor(self.mag_factor * r_vec)\n",
    "\n",
    "        # Decode latent representation\n",
    "        recon_temp = self.decoder(z_vec)\n",
    "        reconstructed = torch.sigmoid(recon_temp)\n",
    "        \n",
    "        # print(reconstructed, r_vec, score, latent_dict, z_vec)\n",
    "        return reconstructed, r_vec, score, latent_dict, z_vec\n",
    "\n",
    "#Instantiated model\n",
    "model = CASTER(**CONFIG)"
   ]
  },
  {
   "cell_type": "markdown",
   "metadata": {},
   "source": [
    "## Training:\n",
    "Training proceeds in two phases. \n",
    "1. **Pre-training:**\n",
    "    * This phase is focused on getting the autoencoder to find the most efficient latent representation for the functional representation.\n",
    "2. **Training:**\n",
    "    * This phase trains the predictor with the linear coefficients (combination of latent dictionary w/ latent representation)."
   ]
  },
  {
   "cell_type": "code",
   "execution_count": 6,
   "metadata": {},
   "outputs": [],
   "source": [
    "#Misc loss histories\n",
    "loss_r_history = []\n",
    "loss_p_history = []\n",
    "loss_c_history = []\n",
    "loss_history = []\n",
    "\n",
    "#How many epochs to devote to training the encoder/decoder\n",
    "PRETRAIN_EPOCHS = CONFIG['pretrain_epochs']\n",
    "#Defines an early stopping point for pre-training the encoder/decoder\n",
    "RECON_THRESH = CONFIG['recon_threshold']\n",
    "#Self defined coefficient to multiply with the reconstruction loss.\n",
    "RECON_LOSS_COEFF = CONFIG['reconstruction_coefficient']\n",
    "\n",
    "TRAIN_EPOCHS = CONFIG[\"train_epochs\"]\n",
    "PROJ_COEFF = CONFIG['projection_coefficient']\n",
    "LAM1 = CONFIG['lambda1']\n",
    "LAM2 = CONFIG['lambda2']\n",
    "\n",
    "LR = CONFIG['LR']\n",
    "BATCH_SIZE = CONFIG[\"batch_size\"]\n",
    "opt = torch.optim.Adam(model.parameters(), lr = LR)"
   ]
  },
  {
   "cell_type": "code",
   "execution_count": 7,
   "metadata": {},
   "outputs": [
    {
     "name": "stdout",
     "output_type": "stream",
     "text": [
      "Pre-Training at Epoch 0 iteration 0, total loss is 7.773, proj loss is 7.703, recon loss is 0.069\n"
     ]
    }
   ],
   "source": [
    "#===== PRE-TRAINING =====\n",
    "len_unsup = len(unsup_generator)\n",
    "\n",
    "if QUICK_DEMO:\n",
    "    print(\"QUICK DEMO ACTIVE\")\n",
    "\n",
    "for pre_epo in range(PRETRAIN_EPOCHS):\n",
    "\n",
    "    #Use unsupervised datasat to train encoder/decoder\n",
    "    for iter_idx, v_D in enumerate(unsup_generator):\n",
    "        v_D = v_D.float()\n",
    "        # print(model.forward(v_D).shape)\n",
    "        recon, code, score, Z_f, z_D = model(v_D)\n",
    "        \n",
    "        loss_r = RECON_LOSS_COEFF * F.binary_cross_entropy(recon, v_D)\n",
    "        \n",
    "        loss_p = PROJ_COEFF * (torch.norm(z_D - torch.matmul(code, Z_f)) + \\\n",
    "                LAM1 * torch.sum(torch.abs(code)) / BATCH_SIZE + \\\n",
    "                LAM2 * torch.norm(Z_f, p='fro') / BATCH_SIZE)\n",
    "        \n",
    "        total_loss = loss_r + loss_p\n",
    "        \n",
    "        loss_r_history.append(loss_r.detach())\n",
    "        loss_p_history.append(loss_p.detach())\n",
    "        loss_history.append(total_loss.detach())\n",
    "\n",
    "        opt.zero_grad()\n",
    "        total_loss.backward()\n",
    "        opt.step()\n",
    "        \n",
    "        # if(i % 10 == 0):\n",
    "        print('Pre-Training at Epoch ' + str(pre_epo) + \\\n",
    "                ' iteration ' + str(iter_idx) + \\\n",
    "                ', total loss is ' + '%.3f' % (total_loss.cpu().detach().numpy()) + \\\n",
    "                ', proj loss is ' + '%.3f' % (loss_p.cpu().detach().numpy()) + \\\n",
    "                ', recon loss is ' + '%.3f' % (loss_r.cpu().detach().numpy()))\n",
    "\n",
    "        #If the reconstruction loss is smaller than the specified threshold, finish the pre-training and go train.\n",
    "        if QUICK_DEMO or loss_r < RECON_THRESH:\n",
    "            break\n",
    "        \n",
    "        # save pretraining checkpoint for reuse\n",
    "        if iter_idx == int(len_unsup/4):\n",
    "            torch.save(model, 'model_pretrain_checkpoint_1.pt')\n",
    "        if iter_idx == int(len_unsup/2):\n",
    "            torch.save(model, 'model_pretrain_checkpoint_1.pt')\n",
    "    torch.save(model, 'model_nn_pretrain.pt')\n",
    "    if QUICK_DEMO:\n",
    "        break"
   ]
  },
  {
   "cell_type": "code",
   "execution_count": 8,
   "metadata": {},
   "outputs": [
    {
     "name": "stdout",
     "output_type": "stream",
     "text": [
      "Training at Epoch 0 iteration 0, total loss is 7.503, proj loss is 6.735, recon loss is 0.069, classification loss is 0.699\n"
     ]
    }
   ],
   "source": [
    "#===== TRAINING =====\n",
    "\n",
    "sigmoid = torch.nn.Sigmoid()\n",
    "bce_loss = torch.nn.BCELoss()\n",
    "\n",
    "if QUICK_DEMO:\n",
    "    print(\"QUICK DEMO ACTIVE\")\n",
    "\n",
    "for tr_epo in range(TRAIN_EPOCHS):\n",
    "    for iter_idx, (v_D, label) in enumerate(training_generator_sup):\n",
    "        v_D = v_D.float()\n",
    "        recon, code, score, Z_f, z_D = model(v_D)\n",
    "        label = Variable(torch.from_numpy(np.array(label)).long())\n",
    "        n = torch.squeeze(sigmoid(score))\n",
    "        \n",
    "        loss_c = bce_loss(n, label.float())\n",
    "        loss_r = RECON_LOSS_COEFF * F.binary_cross_entropy(recon, v_D)\n",
    "        \n",
    "        loss_p =    PROJ_COEFF * (torch.norm(z_D - torch.matmul(code, Z_f)) + \\\n",
    "                    LAM1 * torch.sum(torch.abs(code)) / BATCH_SIZE + \\\n",
    "                    LAM2 * torch.norm(Z_f, p='fro') / BATCH_SIZE)\n",
    "        \n",
    "        total_loss = loss_c + loss_r + loss_p\n",
    "        loss_r_history.append(loss_r.detach())\n",
    "        loss_p_history.append(loss_p.detach())\n",
    "        loss_c_history.append(loss_c.detach())\n",
    "        loss_history.append(total_loss.detach())\n",
    "\n",
    "        opt.zero_grad()\n",
    "        total_loss.backward()\n",
    "        opt.step()\n",
    "                \n",
    "        print(  'Training at Epoch ' + str(tr_epo) + \\\n",
    "                ' iteration ' + str(iter_idx) + \\\n",
    "                ', total loss is ' + '%.3f' % (total_loss.detach().numpy()) + \\\n",
    "                ', proj loss is ' + '%.3f' % (loss_p.detach().numpy()) + \\\n",
    "                ', recon loss is ' + '%.3f' % (loss_r.detach().numpy()) + \\\n",
    "                ', classification loss is ' + '%.3f' % (loss_c.detach().numpy()))\n",
    "        \n",
    "        if QUICK_DEMO:\n",
    "            break\n",
    "    if QUICK_DEMO:\n",
    "        break\n",
    "    \n",
    "    #Not needed for now.\n",
    "    # with torch.set_grad_enabled(False):\n",
    "    #     auc, logits = test_dde_nn(validation_generator_sup, model)\n",
    "    #     if auc > max_auc:\n",
    "    #         model_max = copy.deepcopy(model)\n",
    "    #         max_auc = auc\n",
    "    #         path = 'model_train_checkpoint_SNAP_EarlyStopping_SemiSup_Full_Run3.pt'\n",
    "    #         torch.save(model, path)    \n",
    "    #     print('Test at Epoch '+ str(tr_epo) + ' , AUC: '+ str(auc))"
   ]
  },
  {
   "cell_type": "markdown",
   "metadata": {},
   "source": [
    "## Ablation Model: Logistic Regression\n",
    "\n",
    "One of the ablations we proposed (and one that was also suggested in the paper) was using logistic regression (LR) instead of CASTER's deep predictor. Specifically, the pair's functional representation (sub-structured/post pattern-mined) is classified using LR. According to the paper, though far lighter in parameter count, it was not chosen due its weaker performance. For simplicity, definition and training have been combined into the cell below."
   ]
  },
  {
   "cell_type": "code",
   "execution_count": 9,
   "metadata": {},
   "outputs": [],
   "source": [
    "#Excluded from QUICK_DEMO for sake of convenience\n",
    "if not QUICK_DEMO:\n",
    "    class simple_log_reg(nn.Module):\n",
    "\n",
    "        def __init__(self, n_inputs, n_outputs):\n",
    "            super(simple_log_reg, self).__init__()\n",
    "            self.linear = torch.nn.Linear(n_inputs, n_outputs)\n",
    "            self.double()\n",
    "        \n",
    "        def forward(self,x):\n",
    "            pred = torch.sigmoid(self.linear(x))\n",
    "            return pred[:,-1]\n",
    "\n",
    "    n_inputs = CONFIG[\"input_dim\"]\n",
    "    n_outputs = 1\n",
    "    log_reg = simple_log_reg(n_inputs, n_outputs)\n",
    "\n",
    "    log_reg_optimizer = torch.optim.Adam(log_reg.parameters(), lr=0.001)\n",
    "    log_reg_criterion = torch.nn.BCELoss()\n",
    "\n",
    "    epochs = 50\n",
    "    Loss = []\n",
    "    acc = []\n",
    "    print(\"Starting training\")\n",
    "    for epoch in range(epochs):\n",
    "        # print(\"epoch:\",epoch)\n",
    "        for x_vec, y in training_generator_sup:\n",
    "            # print(y)\n",
    "            log_reg_optimizer.zero_grad()\n",
    "            # print(x)\n",
    "            # print(x.shape)\n",
    "            y_pred = log_reg(x_vec)\n",
    "            total_loss = log_reg_criterion(y_pred, y)\n",
    "            # Loss.append(loss.item())\n",
    "            total_loss.backward()\n",
    "            log_reg_optimizer.step()\n",
    "        Loss.append(total_loss.item())\n",
    "        correct = 0\n",
    "        # for x, y in validation_generator_sup:\n",
    "        #     y_pred = log_reg(x)\n",
    "        #     # print(y_pred)\n",
    "        #     predicted = y_pred > 0.5\n",
    "        #     correct = (predicted == y).sum()\n",
    "        # accuracy = 100 * (correct.item()) / len(y)\n",
    "        # acc.append(accuracy)\n",
    "        print('Epoch: {}. Loss: {}. Accuracy: {}'.format(epoch, total_loss.item(), 0))\n",
    "    print(\"Done training LR.\")"
   ]
  },
  {
   "cell_type": "markdown",
   "metadata": {
    "id": "gX6bCcZNuxmz"
   },
   "source": [
    "# Results:\n",
    "---\n",
    "To begin the evaluation process, we iterate through a test data set using a data loader to obtain the predictions (y_pred) from the model for each input (v_D). We then use the ground truth labels (y_label) to which we compare our predictions to calculate the evaluation metrics.\n",
    "\n",
    "The evaluation metrics used here include some of the most commonly used metrics to assess the performance of binary models: \n",
    "\n",
    "* **Average Precision Score**: Measures the precision-recall trade-off by summarizing the precision-recall curve as a weighted mean of precisions achieved at various thresholds.\n",
    "\n",
    "* **Area under the ROC Curve (AUC)**: This metric effectively describes the trade-off between true-positive rate and false-positive rate. It essentially quantifies the ability of the model to distingush between classes."
   ]
  },
  {
   "cell_type": "code",
   "execution_count": 10,
   "metadata": {
    "id": "LjW9bCkouv8O"
   },
   "outputs": [
    {
     "name": "stderr",
     "output_type": "stream",
     "text": [
      "0it [00:00, ?it/s]"
     ]
    },
    {
     "name": "stderr",
     "output_type": "stream",
     "text": [
      "5it [01:10, 14.02s/it]\n"
     ]
    }
   ],
   "source": [
    "params = {\n",
    "        'batch_size': 128,\n",
    "        'shuffle': True,\n",
    "        'num_workers': 0\n",
    "        }\n",
    "\n",
    "df_ddi = pd.read_csv('data/BIOSNAP/sup_test.csv')  # ddi dataframe drug1_smiles, drug2_smiles\n",
    "labels_sup = df_ddi.label.values\n",
    "test_set = sup_data(df_ddi.index.values, labels_sup, df_ddi)\n",
    "test_generator_sup = data.DataLoader(test_set, **params)\n",
    "\n",
    "y_pred = []\n",
    "y_label = []\n",
    "model.eval()\n",
    "sigmoid = torch.nn.Sigmoid()\n",
    "\n",
    "if QUICK_DEMO:\n",
    "    print(\"QUICK DEMO ACTIVE\")\n",
    "\n",
    "for iter_idx, (v_D, label) in tqdm(enumerate(test_generator_sup)):\n",
    "    recon, r_vec, score, latent_dict, z_D = model(v_D.float())\n",
    "    logits = torch.squeeze(sigmoid(score)).detach().cpu().numpy()\n",
    "    label_ids = label.to('cpu').numpy()\n",
    "    y_label = y_label + label_ids.flatten().tolist()\n",
    "    y_pred = y_pred + logits.flatten().tolist()\n",
    "    \n",
    "    #Stop early at 5 iterations if QUICK_DEMO\n",
    "    if QUICK_DEMO and iter_idx >= 5:\n",
    "        break"
   ]
  },
  {
   "cell_type": "markdown",
   "metadata": {},
   "source": [
    "In the following cells, we will plot the precision-recall curve and the AUC described above. The precision-recall curve demonstrates the precision of the model at various recall levels. This gives us an idea of the model's ability to identify positive occurences with false positives minimized.\n",
    "\n",
    "Overall, using these metrics and evaluations, we get a clear picture of the model's performance across different thresholds."
   ]
  },
  {
   "cell_type": "code",
   "execution_count": 11,
   "metadata": {},
   "outputs": [
    {
     "data": {
      "text/plain": [
       "0.6071738670478123"
      ]
     },
     "execution_count": 11,
     "metadata": {},
     "output_type": "execute_result"
    },
    {
     "data": {
      "image/png": "[encoded data removed]",
      "text/plain": [
       "<Figure size 640x480 with 1 Axes>"
      ]
     },
     "metadata": {},
     "output_type": "display_data"
    }
   ],
   "source": [
    "from sklearn.metrics import average_precision_score\n",
    "average_precision_score(y_label, y_pred)\n",
    "from sklearn.metrics import precision_recall_curve\n",
    "average_precision = average_precision_score(y_label, y_pred)\n",
    "precision, recall, _ = precision_recall_curve(y_label, y_pred)\n",
    "\n",
    "plt.step(recall, precision, color='b', alpha=0.2,\n",
    "         where='post')\n",
    "plt.fill_between(recall, precision, alpha=0.2, color='b')\n",
    "\n",
    "plt.xlabel('Recall')\n",
    "plt.ylabel('Precision')\n",
    "plt.ylim([0.0, 1.05])\n",
    "plt.xlim([0.0, 1.0])\n",
    "plt.title('2-class Precision-Recall curve: AP={0:0.2f}'.format(\n",
    "          average_precision))\n",
    "average_precision"
   ]
  },
  {
   "cell_type": "code",
   "execution_count": 14,
   "metadata": {},
   "outputs": [
    {
     "data": {
      "text/plain": [
       "<matplotlib.legend.Legend at 0x22b410f8a90>"
      ]
     },
     "execution_count": 14,
     "metadata": {},
     "output_type": "execute_result"
    },
    {
     "data": {
      "image/png": "[encoded data removed]",
      "text/plain": [
       "<Figure size 640x480 with 1 Axes>"
      ]
     },
     "metadata": {},
     "output_type": "display_data"
    }
   ],
   "source": [
    "from sklearn.metrics import roc_auc_score, precision_recall_curve, roc_curve, auc, confusion_matrix, classification_report\n",
    "\n",
    "fpr, tpr, thresholds = roc_curve(y_label, y_pred)\n",
    "auc_score = auc(fpr, tpr)\n",
    "\n",
    "plt.figure(1)\n",
    "plt.plot([0, 1], [0, 1], 'k--')\n",
    "plt.plot(fpr, tpr, label='Val (area = {:.3f})'.format(auc_score))\n",
    "plt.xlabel('FPR')\n",
    "plt.ylabel('TPR')\n",
    "plt.title('ROC Curve')\n",
    "plt.legend(loc='best')"
   ]
  },
  {
   "cell_type": "markdown",
   "metadata": {
    "id": "8EAWAy_LwHlV"
   },
   "source": [
    "# Model Comparison:\n",
    "\n",
    "---"
   ]
  },
  {
   "cell_type": "markdown",
   "metadata": {
    "id": "qH75TNU71eRH"
   },
   "source": [
    "# Discussion\n",
    "\n",
    "In this section,you should discuss your work and make future plan. The discussion should address the following questions:\n",
    "  * Make assessment that the paper is reproducible or not.\n",
    "  * Explain why it is not reproducible if your results are kind negative.\n",
    "  * Describe “What was easy” and “What was difficult” during the reproduction.\n",
    "  * Make suggestions to the author or other reproducers on how to improve the reproducibility.\n",
    "  * What will you do in next phase.\n",
    "\n"
   ]
  },
  {
   "cell_type": "markdown",
   "metadata": {
    "id": "SHMI2chl9omn"
   },
   "source": [
    "# References\n",
    "\n",
    "1.   Huang, K., Xiao, C., Hoang, T., Glass, L., & Sun, J. (2020, April). Caster: Predicting drug interactions with chemical substructure representation. In Proceedings of the AAAI conference on artificial intelligence (Vol. 34, No. 01, pp. 702-709).\n",
    "\n"
   ]
  }
 ],
 "metadata": {
  "colab": {
   "private_outputs": true,
   "provenance": [
    {
     "file_id": "1oAKqszNlwEZwPa_BjHPqfcoWlikYBpi5",
     "timestamp": 1709153069464
    }
   ],
   "toc_visible": true
  },
  "kernelspec": {
   "display_name": "Python 3",
   "name": "python3"
  },
  "language_info": {
   "codemirror_mode": {
    "name": "ipython",
    "version": 3
   },
   "file_extension": ".py",
   "mimetype": "text/x-python",
   "name": "python",
   "nbconvert_exporter": "python",
   "pygments_lexer": "ipython3",
   "version": "3.11.2"
  }
 },
 "nbformat": 4,
 "nbformat_minor": 0
}
